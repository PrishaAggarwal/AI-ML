{
 "cells": [
  {
   "cell_type": "markdown",
   "id": "6fd7a383-2d26-454a-b8bb-d21aebdba6bf",
   "metadata": {},
   "source": [
    "### Creating a Neuron"
   ]
  },
  {
   "cell_type": "code",
   "execution_count": 20,
   "id": "4ad51244-c43c-4d11-85ac-cc665fe28b95",
   "metadata": {},
   "outputs": [],
   "source": [
    "class Neuron:\n",
    "    def __init__(self,input_size):\n",
    "        self.weights=np.random.randn(input_size)\n",
    "        self.bias=no.random.randn()\n",
    "    \n",
    "    def forward(self,x):\n",
    "        z=np.dot(self.weights,x) + self.bias\n",
    "        return sigmoid(z)\n",
    "#neuron khud ko chnage kr sakta hai i.e self hai\n",
    "#weights and bias bhi neuron khud se change krle\n",
    "#bias is basically passing value i.e suppose kuch 50 percent jiyada hai then we take else not..this min value is bias\n",
    "#weights mein neurons are devided and har neuron ka weights hota hai that depicts oski kitni importance hai\n",
    "#dot se dot product hota hai\n",
    "#sigmoid activating function i.e filter out the needed values\n",
    "#jo needed hai...and suppose koi unneeded aa jaye then sigmoid according to what we need de deta hai"
   ]
  },
  {
   "cell_type": "markdown",
   "id": "913b9c5e-c60e-491c-baa7-61e49e56c5b8",
   "metadata": {},
   "source": [
    "### Building Neural Network\n",
    "defining networks and number of layers"
   ]
  },
  {
   "cell_type": "code",
   "execution_count": null,
   "id": "ef6eb6e2-7bca-4afb-afef-e0498d1a0fd7",
   "metadata": {},
   "outputs": [],
   "source": []
  },
  {
   "cell_type": "code",
   "execution_count": null,
   "id": "e53398cc-f534-43c6-8ee6-ca591b8912ff",
   "metadata": {},
   "outputs": [],
   "source": []
  }
 ],
 "metadata": {
  "kernelspec": {
   "display_name": "Python 3 (ipykernel)",
   "language": "python",
   "name": "python3"
  },
  "language_info": {
   "codemirror_mode": {
    "name": "ipython",
    "version": 3
   },
   "file_extension": ".py",
   "mimetype": "text/x-python",
   "name": "python",
   "nbconvert_exporter": "python",
   "pygments_lexer": "ipython3",
   "version": "3.12.4"
  }
 },
 "nbformat": 4,
 "nbformat_minor": 5
}
