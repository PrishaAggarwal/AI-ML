{
 "cells": [
  {
   "cell_type": "markdown",
   "id": "4036ff76-b302-4e8b-86d9-8dd212915e18",
   "metadata": {},
   "source": [
    "## Classification\n",
    "\n",
    "This type of classification problem where there are only two possible outputs is called binary classification. Where the word binary refers to there being only two possible classes or two possible categories. <br>\n",
    "Negative or positive dont refer to 'bad' vs 'good'. They just present true false or 0,1. <br>\n",
    "In first video its explained why we cant use linear regression models for classification.<br>\n",
    "![Regression](Regression.png)\n",
    "Now if we dont have extreme point wala example then blue regression line will be made. The blue vertical line is decision boundary. How is it made ? Suppose we set threshold value of 0.5 and everything above 0.5 means 1 and below 0.5 means 0. The threshold value corresponds to a point on regression line and os point par we vertical line that is decision boundary. So far decision boundary gives us right results. Everything on left of it is zero and right is 1. <br>\n",
    "Now, we have new extreme point and hence regression line and decision boundary is shifted. Now according to what we did earliar that is right par 0 then our results come out to be wrong. and hence misclassification happens."
   ]
  },
  {
   "cell_type": "markdown",
   "id": "a1ac8cc0-195e-4bf7-bc16-8ef9ca30e531",
   "metadata": {},
   "source": [
    "### Why cant we apply linear regression for Classification ?"
   ]
  },
  {
   "cell_type": "code",
   "execution_count": 5,
   "id": "73b62913-c62e-498a-a98c-b29ce40a9ef1",
   "metadata": {},
   "outputs": [
    {
     "ename": "ImportError",
     "evalue": "cannot import name 'sigmoid' from 'lab_utils_common' (C:\\Users\\prish\\AI-ML\\Machine_Learning\\lab_utils_common.py)",
     "output_type": "error",
     "traceback": [
      "\u001b[1;31m---------------------------------------------------------------------------\u001b[0m",
      "\u001b[1;31mImportError\u001b[0m                               Traceback (most recent call last)",
      "Cell \u001b[1;32mIn[5], line 5\u001b[0m\n\u001b[0;32m      3\u001b[0m \u001b[38;5;28;01mimport\u001b[39;00m \u001b[38;5;21;01mmatplotlib\u001b[39;00m\u001b[38;5;21;01m.\u001b[39;00m\u001b[38;5;21;01mpyplot\u001b[39;00m \u001b[38;5;28;01mas\u001b[39;00m \u001b[38;5;21;01mplt\u001b[39;00m\n\u001b[0;32m      4\u001b[0m \u001b[38;5;28;01mfrom\u001b[39;00m \u001b[38;5;21;01mlab_utils_common1\u001b[39;00m \u001b[38;5;28;01mimport\u001b[39;00m dlc, plot_data\n\u001b[1;32m----> 5\u001b[0m \u001b[38;5;28;01mfrom\u001b[39;00m \u001b[38;5;21;01mplt_one_addpt_onclick\u001b[39;00m \u001b[38;5;28;01mimport\u001b[39;00m plt_one_addpt_onclick\n\u001b[0;32m      6\u001b[0m plt\u001b[38;5;241m.\u001b[39mstyle\u001b[38;5;241m.\u001b[39muse(\u001b[38;5;124m'\u001b[39m\u001b[38;5;124m./deeplearning.mplstyle\u001b[39m\u001b[38;5;124m'\u001b[39m)\n",
      "File \u001b[1;32m~\\AI-ML\\Machine_Learning\\plt_one_addpt_onclick.py:6\u001b[0m\n\u001b[0;32m      4\u001b[0m \u001b[38;5;28;01mfrom\u001b[39;00m \u001b[38;5;21;01mmatplotlib\u001b[39;00m\u001b[38;5;21;01m.\u001b[39;00m\u001b[38;5;21;01mwidgets\u001b[39;00m \u001b[38;5;28;01mimport\u001b[39;00m Button, CheckButtons\n\u001b[0;32m      5\u001b[0m \u001b[38;5;28;01mfrom\u001b[39;00m \u001b[38;5;21;01mmatplotlib\u001b[39;00m\u001b[38;5;21;01m.\u001b[39;00m\u001b[38;5;21;01mpatches\u001b[39;00m \u001b[38;5;28;01mimport\u001b[39;00m FancyArrowPatch\n\u001b[1;32m----> 6\u001b[0m \u001b[38;5;28;01mfrom\u001b[39;00m \u001b[38;5;21;01mlab_utils_common\u001b[39;00m \u001b[38;5;28;01mimport\u001b[39;00m np, plt, dlblue, dlorange, sigmoid, dldarkred, gradient_descent\n\u001b[0;32m      8\u001b[0m \u001b[38;5;66;03m# for debug\u001b[39;00m\n\u001b[0;32m      9\u001b[0m \u001b[38;5;66;03m#output = Output() # sends hidden error messages to display when using widgets\u001b[39;00m\n\u001b[0;32m     10\u001b[0m \u001b[38;5;66;03m#display(output)\u001b[39;00m\n\u001b[0;32m     12\u001b[0m \u001b[38;5;28;01mclass\u001b[39;00m \u001b[38;5;21;01mplt_one_addpt_onclick\u001b[39;00m:\n",
      "\u001b[1;31mImportError\u001b[0m: cannot import name 'sigmoid' from 'lab_utils_common' (C:\\Users\\prish\\AI-ML\\Machine_Learning\\lab_utils_common.py)"
     ]
    }
   ],
   "source": [
    "import numpy as np\n",
    "%matplotlib widget\n",
    "import matplotlib.pyplot as plt\n",
    "from lab_utils_common1 import dlc, plot_data\n",
    "from plt_one_addpt_onclick import plt_one_addpt_onclick\n",
    "plt.style.use('./deeplearning.mplstyle')"
   ]
  },
  {
   "cell_type": "code",
   "execution_count": null,
   "id": "9886dac3-71e3-4a16-8edd-2aeba2112de9",
   "metadata": {},
   "outputs": [],
   "source": []
  }
 ],
 "metadata": {
  "kernelspec": {
   "display_name": "Python 3 (ipykernel)",
   "language": "python",
   "name": "python3"
  },
  "language_info": {
   "codemirror_mode": {
    "name": "ipython",
    "version": 3
   },
   "file_extension": ".py",
   "mimetype": "text/x-python",
   "name": "python",
   "nbconvert_exporter": "python",
   "pygments_lexer": "ipython3",
   "version": "3.12.4"
  }
 },
 "nbformat": 4,
 "nbformat_minor": 5
}
