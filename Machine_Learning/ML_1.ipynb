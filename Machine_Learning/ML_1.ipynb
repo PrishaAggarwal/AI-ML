{
 "cells": [
  {
   "cell_type": "markdown",
   "id": "bd918e4b-543e-4b99-8791-ad5aa620dd92",
   "metadata": {},
   "source": [
    "## Introduction to Machine Learning"
   ]
  },
  {
   "cell_type": "markdown",
   "id": "1093ff60-5013-4953-9286-55213aed00f1",
   "metadata": {},
   "source": [
    "In present day we have alot of applications of machine learning around us\n",
    "Everything we use almost has machine learning in it\n",
    "it's the science of getting computers to learn without being explicitly programmed.\n",
    "Machine Learning had grown up as a sub-field of AI or artificial intelligence. We wanted to build intelligent machines. \n",
    "someday building machines as intelligent as you or me. This is sometimes called Artificial General Intelligence or AGI. \n",
    "We can use learning algos and use those that take inspiration from how our brain works"
   ]
  },
  {
   "cell_type": "markdown",
   "id": "9f71fbe7-2b1e-4c1a-9f6b-417e9adfc2d7",
   "metadata": {},
   "source": [
    "### What is Machine Learning"
   ]
  },
  {
   "cell_type": "markdown",
   "id": "654f0e7a-fe77-4478-a676-1d46b2a6fddd",
   "metadata": {},
   "source": [
    "Machine Learning is the field of study that gives computers the ability to learn without being explicitly programmed. \n",
    "In general, the more opportunities you give a learning algorithm to learn, the better it will perform.\n",
    "\n",
    "2 MAJOR MACHINE LEARNING AGLOS\n",
    "\n",
    "- Supervised Machine Learning\n",
    "- Unsupervised Machine Learning "
   ]
  },
  {
   "cell_type": "markdown",
   "id": "afe8ec53-860a-4c40-9be0-dcd02b6d89f2",
   "metadata": {},
   "source": [
    "#### Supervised Machine Learning "
   ]
  },
  {
   "cell_type": "markdown",
   "id": "b872c0eb-f989-40f9-8e0b-e5bf737d3d49",
   "metadata": {},
   "source": [
    "The key characteristic of supervised learning is that you give your learning algorithm examples to learn from. That includes the right answers, whereby right answer, I mean, the correct label y for a given input x, and is by seeing correct pairs of input x and desired output label y that the learning algorithm eventually learns to take just the input alone without the output label and gives a reasonably accurate prediction or guess of the output."
   ]
  }
 ],
 "metadata": {
  "kernelspec": {
   "display_name": "Python 3 (ipykernel)",
   "language": "python",
   "name": "python3"
  },
  "language_info": {
   "codemirror_mode": {
    "name": "ipython",
    "version": 3
   },
   "file_extension": ".py",
   "mimetype": "text/x-python",
   "name": "python",
   "nbconvert_exporter": "python",
   "pygments_lexer": "ipython3",
   "version": "3.12.4"
  }
 },
 "nbformat": 4,
 "nbformat_minor": 5
}
