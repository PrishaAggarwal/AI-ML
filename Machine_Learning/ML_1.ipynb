{
 "cells": [
  {
   "cell_type": "markdown",
   "id": "bd918e4b-543e-4b99-8791-ad5aa620dd92",
   "metadata": {},
   "source": [
    "## Introduction to Machine Learning"
   ]
  },
  {
   "cell_type": "markdown",
   "id": "1093ff60-5013-4953-9286-55213aed00f1",
   "metadata": {},
   "source": [
    "In present day we have alot of applications of machine learning around us\n",
    "Everything we use almost has machine learning in it\n",
    "it's the science of getting computers to learn without being explicitly programmed.\n",
    "Machine Learning had grown up as a sub-field of AI or artificial intelligence. We wanted to build intelligent machines. \n",
    "someday building machines as intelligent as you or me. This is sometimes called Artificial General Intelligence or AGI. \n",
    "We can use learning algos and use those that take inspiration from how our brain works"
   ]
  },
  {
   "cell_type": "markdown",
   "id": "9f71fbe7-2b1e-4c1a-9f6b-417e9adfc2d7",
   "metadata": {},
   "source": [
    "### What is Machine Learning"
   ]
  },
  {
   "cell_type": "markdown",
   "id": "654f0e7a-fe77-4478-a676-1d46b2a6fddd",
   "metadata": {},
   "source": [
    "Machine Learning is the field of study that gives computers the ability to learn without being explicitly programmed. \n",
    "In general, the more opportunities you give a learning algorithm to learn, the better it will perform.\n",
    "\n",
    "2 MAJOR MACHINE LEARNING AGLOS\n",
    "\n",
    "- Supervised Machine Learning\n",
    "- Unsupervised Machine Learning "
   ]
  },
  {
   "cell_type": "markdown",
   "id": "afe8ec53-860a-4c40-9be0-dcd02b6d89f2",
   "metadata": {},
   "source": [
    "#### Supervised Machine Learning "
   ]
  },
  {
   "cell_type": "markdown",
   "id": "b872c0eb-f989-40f9-8e0b-e5bf737d3d49",
   "metadata": {},
   "source": [
    "The key characteristic of supervised learning is that you give your learning algorithm examples to learn from. That includes the right answers, whereby right answer, I mean, the correct label y for a given input x, and is by seeing correct pairs of input x and desired output label y that the learning algorithm eventually learns to take just the input alone without the output label and gives a reasonably accurate prediction or guess of the output. "
   ]
  },
  {
   "cell_type": "markdown",
   "id": "2e8daf0f-ea1c-4f1e-a267-fc089ffc5e6b",
   "metadata": {},
   "source": [
    "##### 1. Regression \n",
    "\n",
    "Where we predict a number from infinitely many possible outputs. Like predicting house prices based on area of the house. Do we need to fit a best line or a curve line or a complex function depends on the data and we will learn later how do we know what to use."
   ]
  },
  {
   "cell_type": "markdown",
   "id": "5bd57354-2495-4a18-82e9-c2db1096cda4",
   "metadata": {},
   "source": [
    "##### 2. Classification\n",
    "\n",
    "One reason that this is different from regression is that we're trying to predict only a small number of possible outputs or categories and not all possible numbers like 0.5 or 0.7 etc. Like in Breast cancer detection. Classification algorithms predict categories. Categories don't have to be numbers. It could be non numeric like if animal is dog or cat. We can also have more than 2 inputs here like in Breast Cancer we have tumor size and patient's age. In that a boundary line in graph will be there under/on right or left of which patient has cancer and on other side he doesnt."
   ]
  },
  {
   "cell_type": "markdown",
   "id": "59e2827f-78e7-4e9a-a52d-42550bdc7203",
   "metadata": {},
   "source": [
    "#### Unsupervised Machine Learning"
   ]
  },
  {
   "cell_type": "markdown",
   "id": "c2e97ff4-c5a1-4031-b4c7-5cb61ff7b530",
   "metadata": {},
   "source": [
    "We are given data that isn't associated with any output labels y. Like we are given age and tumor size and not asked if the tumor is cancerous or not cancerous since y labels are not given. Instead, our job is to find some structure or some pattern or just find something interesting in the data."
   ]
  },
  {
   "cell_type": "markdown",
   "id": "6a366e85-6b4c-41f8-add9-5864c3858875",
   "metadata": {},
   "source": [
    "##### 1. Clustering Algorithm"
   ]
  },
  {
   "cell_type": "markdown",
   "id": "e6fed37b-9d61-4e25-a8fe-8404a581452a",
   "metadata": {},
   "source": [
    "Might decide that the data can be assigned to two different groups or two different clusters. Like example in google news the article we are reading, osse related articles appear below it having similar words in the heading with the one we are reading. The algo figures on its own that what are the clusters like what words fall  in same clusters acc to what we are reading , what is news today and what is trending.\n",
    "We ask algo to structure the data and find the major types of groups present.\n",
    "Hence,it is a type of unsupervised learning algorithm, takes data without labels and tries to automatically group them into clusters. "
   ]
  },
  {
   "cell_type": "markdown",
   "id": "c45356cf-2624-4f21-aac4-975e1b7872e5",
   "metadata": {},
   "source": [
    "##### 2. Anomaly Detection"
   ]
  },
  {
   "cell_type": "markdown",
   "id": "1aa54477-16a8-4131-a217-cfe509d38e53",
   "metadata": {},
   "source": [
    "It is used to detect unusual events. This turns out to be really important for fraud detection in the financial system, where unusual events, unusual transactions could be signs of fraud and for many other applications. "
   ]
  },
  {
   "cell_type": "markdown",
   "id": "bd1b789f-37a8-43a1-a9c9-2544eebb8675",
   "metadata": {},
   "source": [
    "##### 3. Dimentionality Reduction"
   ]
  },
  {
   "cell_type": "markdown",
   "id": "57550a36-532d-4dd3-91cf-a43577d8eee0",
   "metadata": {},
   "source": [
    " It lets you take a big data-set and almost magically compress it to a much smaller data-set while losing as little information as possible."
   ]
  }
 ],
 "metadata": {
  "kernelspec": {
   "display_name": "Python 3 (ipykernel)",
   "language": "python",
   "name": "python3"
  },
  "language_info": {
   "codemirror_mode": {
    "name": "ipython",
    "version": 3
   },
   "file_extension": ".py",
   "mimetype": "text/x-python",
   "name": "python",
   "nbconvert_exporter": "python",
   "pygments_lexer": "ipython3",
   "version": "3.12.4"
  }
 },
 "nbformat": 4,
 "nbformat_minor": 5
}
