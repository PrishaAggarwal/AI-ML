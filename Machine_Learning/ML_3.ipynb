{
 "cells": [
  {
   "cell_type": "markdown",
   "id": "b9d03cba-d16b-4fe4-a991-a8755a654ca0",
   "metadata": {},
   "source": [
    "## Multiple Linear Regression"
   ]
  },
  {
   "cell_type": "markdown",
   "id": "c19291d3-9223-44b1-900a-2496025e13de",
   "metadata": {},
   "source": [
    "NOTATIONS\n",
    "\n",
    "To denote different features we will denote x_1 x_2 etc. <br>\n",
    "x subscript j will denote features <br>\n",
    "n = number of features <br>\n",
    "x superscript i will be a vector that includes all the features of ith training example i.e basically a row ..it is row vector...it is a list of vectors <br>\n",
    "x subscript j superscript i means a particular value i.e single element <br>"
   ]
  },
  {
   "cell_type": "markdown",
   "id": "624a5be2-ac01-450b-99cb-7d358e719535",
   "metadata": {},
   "source": [
    "### Model\n",
    "\n",
    "Previously f(x) = wx + b.\n",
    "Now,\n",
    "\n",
    "`f(x) = w1x1 + w2x2 + w3x3 + w4x4 + ... + b`\n",
    "\n",
    "w = [w1 w2 w3...]  #It is a row vector <br>\n",
    "b is a number <br>\n",
    "x = [x1 x2 x3 ...]  #It is list of features , row vectors <br>\n",
    "\n",
    "`f(x) = w.x + b` <br>\n",
    "Where there is dot product between w and x vectors here\n"
   ]
  },
  {
   "cell_type": "markdown",
   "id": "615bca6f-99b8-40b7-bdc9-fbf42fee5ed4",
   "metadata": {},
   "source": [
    "### Vectorization\n",
    "\n",
    "You're implementing a learning algorithm, using vectorization will both make your code shorter and also make it run much more efficiently. GPU hardware that stands for graphics processing unit. This is hardware objectively designed to speed up computer graphics in your computer, but turns out can be used when you write vectorized code to also help you execute your code much more quickly. "
   ]
  },
  {
   "cell_type": "code",
   "execution_count": 5,
   "id": "ff50a512-167e-405d-8ece-8b08bb8b724f",
   "metadata": {},
   "outputs": [],
   "source": [
    "import numpy as np "
   ]
  },
  {
   "cell_type": "code",
   "execution_count": 6,
   "id": "7f765847-ebf7-4ba6-b7bf-92a5ce2a874c",
   "metadata": {},
   "outputs": [],
   "source": [
    "w = np.array([1.0,2.5,-3.3])\n",
    "b = 4\n",
    "x = np.array([10,20,30])"
   ]
  },
  {
   "cell_type": "code",
   "execution_count": 7,
   "id": "10f092cd-f412-4a94-85c1-b5669d032823",
   "metadata": {},
   "outputs": [],
   "source": [
    "#without vectorization implementation\n",
    "f = w[0] * x[0] + w[1] * x[1] + w[2] * x[2] + b\n",
    "#but when n = 100 then very lengthy"
   ]
  },
  {
   "cell_type": "code",
   "execution_count": 8,
   "id": "75cbaf67-37f4-40d4-bfa4-427c26183ef7",
   "metadata": {},
   "outputs": [],
   "source": [
    "#can also use loop but this is still without vectorization\n",
    "#here basically all multiplications of w and x par summition is done and then at last b is added\n",
    "f = 0\n",
    "n = 3 #kitne features hai\n",
    "for j in range(0,n): #means loop goes from 0 to n-1 or u can also write rang(n)\n",
    "    f = f + w[j] * x[j]\n",
    "f = f + b    "
   ]
  },
  {
   "cell_type": "code",
   "execution_count": 9,
   "id": "45455e59-d042-4005-9ab5-122ac2e757c4",
   "metadata": {},
   "outputs": [],
   "source": [
    "#with vectorization its done in single line by using the dot product from maths\n",
    "f = np.dot(w,x) + b"
   ]
  },
  {
   "cell_type": "markdown",
   "id": "88f3faed-8cd0-4431-b912-4bbf963269e0",
   "metadata": {},
   "source": [
    "Vectorization actually has two distinct benefits. First, it makes code shorter, is now just one line of code. Second, it also results in your code running much faster than either of the two previous implementations that did not use vectorization."
   ]
  },
  {
   "cell_type": "markdown",
   "id": "923b1470-62b8-4951-8007-519dc3e631f0",
   "metadata": {},
   "source": [
    "### What do computers do in background to run the vectorization code run faster \n",
    "\n",
    "In for loop if the range is 0 to 15 then it performes operations one after another. It at first timestamp calculates at index 0. f + w[0] * x[0]. The at second timestamp calculates the value at index 1 and so on till 15th step.In other words, it calculates these computations one step at a time, one step after another. <br>\n",
    "In contrast, this function in NumPy is implemented in the computer hardware with vectorization. The computer can get all values of the vectors w and x, and in a single-step, it multiplies each pair of w and x with each other all at the same time in parallel. Then after that, the computer takes these 16 numbers and uses specialized hardware to add them altogether very efficiently, rather than needing to carry out distinct additions one after another to add up these 16 numbers. This means that codes with vectorization can perform calculations in much less time than codes without vectorization"
   ]
  },
  {
   "cell_type": "markdown",
   "id": "1b5efdee-2690-4822-91e8-22b37520ec40",
   "metadata": {},
   "source": [
    "When we will do gradient descent without vectorization, we have to multiply each derivative term with learning rate and find each w. <br>\n",
    "w1 = w1 - 0.1*d1 <br>\n",
    "w2 = w2 - 0.1*d2 <br>\n",
    "...so on <br>\n",
    "With Vectorization <br>\n",
    "w = w - 0.1*d where w and d are vectors with arrows <br>\n",
    "What it does....all values of w in parallel ...substracts 0.1 times all values of d from respective w and assign all 16 values in code in 1 step. <br>\n",
    "`HENCE PARALLEL PROCESSING HARDWARE IS USED HERE`"
   ]
  },
  {
   "cell_type": "markdown",
   "id": "f2f1c0dd-490c-4489-8395-9de82d575666",
   "metadata": {},
   "source": [
    "## Python, NumPy, Vectorization"
   ]
  },
  {
   "cell_type": "code",
   "execution_count": 14,
   "id": "c54fe22d-d592-4125-99c0-a654d6fa7f1c",
   "metadata": {},
   "outputs": [],
   "source": [
    "import numpy as np\n",
    "import time"
   ]
  },
  {
   "cell_type": "markdown",
   "id": "464e38ef-08b7-421b-a8b7-cfb0667a013f",
   "metadata": {},
   "source": [
    "### Vectors\n",
    "\n",
    "The elements of a vector are all the same type. The number of elements in the array is often referred to as the dimension though mathematicians may prefer rank. "
   ]
  },
  {
   "cell_type": "markdown",
   "id": "82f3d20f-f0ae-42fe-b2e0-10ec581b99c3",
   "metadata": {},
   "source": [
    "#### Vector Creation"
   ]
  },
  {
   "cell_type": "code",
   "execution_count": 17,
   "id": "59821db6-0f82-4f04-8cc6-4025f39dc604",
   "metadata": {},
   "outputs": [
    {
     "name": "stdout",
     "output_type": "stream",
     "text": [
      "np.zeros(4), a = [0. 0. 0. 0.] shape = (4,) , data type = float64\n",
      "np.zeros((4,)), a = [0. 0. 0. 0.] shape = (4,) , data type = float64\n",
      "np.random.random_sample(4), a = [0.1679925  0.7289732  0.60115897 0.49925292] shape = (4,) , data type = float64\n"
     ]
    }
   ],
   "source": [
    "a = np.zeros(4)\n",
    "print(f\"np.zeros(4), a = {a} shape = {a.shape} , data type = {a.dtype}\")\n",
    "a = np.zeros((4,))\n",
    "print(f\"np.zeros((4,)), a = {a} shape = {a.shape} , data type = {a.dtype}\")\n",
    "a = np.random.random_sample((4))\n",
    "print(f\"np.random.random_sample(4), a = {a} shape = {a.shape} , data type = {a.dtype}\")"
   ]
  },
  {
   "cell_type": "code",
   "execution_count": 18,
   "id": "b4184b86-a0e8-4883-8b3d-d091c0afbec2",
   "metadata": {},
   "outputs": [
    {
     "name": "stdout",
     "output_type": "stream",
     "text": [
      " [0. 1. 2. 3.] , (4,) , float64\n",
      "[0.9849147  0.99861715 0.17869075 0.98629556] (4,) float64\n"
     ]
    }
   ],
   "source": [
    "#these dont take shape as input\n",
    "a = np.arange(4.) #4. gives floating values\n",
    "print(f\" {a} , {a.shape} , {a.dtype}\")\n",
    "a = np.random.rand(4)\n",
    "print(a , a.shape, a.dtype)\n",
    "#the only diff in rand and random_sample is in random_sample arg is tuple i.e ((4))"
   ]
  },
  {
   "cell_type": "code",
   "execution_count": 19,
   "id": "84d60f32-9f17-4902-9e5e-6f7d629c7d1b",
   "metadata": {},
   "outputs": [
    {
     "name": "stdout",
     "output_type": "stream",
     "text": [
      "np.array([5,4,3,2]):  a = [5 4 3 2],     a shape = (4,), a data type = int32\n",
      "np.array([5.,4,3,2]): a = [5. 4. 3. 2.], a shape = (4,), a data type = float64\n"
     ]
    }
   ],
   "source": [
    "a = np.array([5,4,3,2]);  print(f\"np.array([5,4,3,2]):  a = {a},     a shape = {a.shape}, a data type = {a.dtype}\")\n",
    "a = np.array([5.,4,3,2]); print(f\"np.array([5.,4,3,2]): a = {a}, a shape = {a.shape}, a data type = {a.dtype}\")\n",
    "#(4,) indicates 1d array with 4 elements"
   ]
  },
  {
   "cell_type": "markdown",
   "id": "9d2cacd1-832c-4b4b-9423-a57f11d36702",
   "metadata": {},
   "source": [
    "#### Operations on Vectors"
   ]
  },
  {
   "cell_type": "markdown",
   "id": "879fd6cd-ae6f-45e8-8a22-f1087235c222",
   "metadata": {},
   "source": [
    "##### Indexing"
   ]
  },
  {
   "cell_type": "markdown",
   "id": "875f0d17-5e8b-493d-9e84-c13fdb8ff7b9",
   "metadata": {},
   "source": [
    "Indexing means referring to an element of an array by its position within the array.\n",
    "Slicing means getting a subset of elements from an array based on their indices."
   ]
  },
  {
   "cell_type": "code",
   "execution_count": 23,
   "id": "30e739b6-5258-456b-bd3f-d8c6409000b2",
   "metadata": {},
   "outputs": [
    {
     "name": "stdout",
     "output_type": "stream",
     "text": [
      "[0 1 2 3 4 5 6 7 8 9]\n",
      " () 2 accessing an element return scalar\n",
      "a[-1] = 9\n",
      "Error:\n",
      "index 10 is out of bounds for axis 0 with size 10\n"
     ]
    }
   ],
   "source": [
    "a = np.arange(10)\n",
    "print(a)\n",
    "\n",
    "print(f\" {a[2].shape} {a[2]} accessing an element return scalar\")\n",
    "print(f\"a[-1] = {a[-1]}\")\n",
    "\n",
    "try:\n",
    "    c = a[10]\n",
    "except Exception as e: #if any exception caught then assing it to e\n",
    "    print(\"Error:\")\n",
    "    print(e)"
   ]
  },
  {
   "cell_type": "markdown",
   "id": "23889ae1-2278-433d-b40b-9acf237158b6",
   "metadata": {},
   "source": [
    "##### Slicing\n",
    "\n",
    "Slicing creates an array of indices using a set of three values(start:stop:step)"
   ]
  },
  {
   "cell_type": "code",
   "execution_count": 25,
   "id": "9b24cb91-de2f-455f-a495-57aa91d11f43",
   "metadata": {},
   "outputs": [
    {
     "name": "stdout",
     "output_type": "stream",
     "text": [
      "a         = [0 1 2 3 4 5 6 7 8 9]\n",
      "[2 3 4 5 6]\n",
      "[2 4 6]\n",
      "[3 4 5 6 7 8 9]\n",
      "[0 1 2]\n",
      "[0 1 2 3 4 5 6 7 8 9]\n"
     ]
    }
   ],
   "source": [
    "a = np.arange(10)\n",
    "print(f\"a         = {a}\")\n",
    "\n",
    "c = a[2:7:1]\n",
    "print(c)\n",
    "\n",
    "c = a[2:7:2]\n",
    "print(c)\n",
    "\n",
    "c = a[3:]\n",
    "print(c)\n",
    "\n",
    "c = a[:3]\n",
    "print(c)\n",
    "\n",
    "c = a[:]\n",
    "print(c)"
   ]
  },
  {
   "cell_type": "markdown",
   "id": "42132316-9f95-4ba9-bb60-d65c2e36b3e8",
   "metadata": {},
   "source": [
    "##### Single vector operations"
   ]
  },
  {
   "cell_type": "code",
   "execution_count": 27,
   "id": "7e876e86-cbbd-4085-9fce-f15b3bb419f6",
   "metadata": {},
   "outputs": [
    {
     "name": "stdout",
     "output_type": "stream",
     "text": [
      "a             : [1 2 3 4]\n",
      "b = -a        : [-1 -2 -3 -4]\n",
      "b = np.sum(a) : 10\n",
      "b = np.mean(a): 2.5\n",
      "b = a**2      : [ 1  4  9 16]\n"
     ]
    }
   ],
   "source": [
    "a = np.array([1,2,3,4])\n",
    "print(f\"a             : {a}\")\n",
    "\n",
    "b = -a \n",
    "print(f\"b = -a        : {b}\")\n",
    "\n",
    "b = np.sum(a) \n",
    "print(f\"b = np.sum(a) : {b}\")\n",
    "\n",
    "b = np.mean(a)\n",
    "print(f\"b = np.mean(a): {b}\")\n",
    "\n",
    "b = a**2\n",
    "print(f\"b = a**2      : {b}\")"
   ]
  },
  {
   "cell_type": "markdown",
   "id": "4ca59d9d-2416-4f41-af1b-125587bddc1d",
   "metadata": {},
   "source": [
    "##### Vector Vector element-wise operations"
   ]
  },
  {
   "cell_type": "code",
   "execution_count": 29,
   "id": "52d7bf16-db89-408b-8cb7-48807c366678",
   "metadata": {},
   "outputs": [
    {
     "name": "stdout",
     "output_type": "stream",
     "text": [
      "Binary operators work element wise: [0 0 6 8]\n"
     ]
    }
   ],
   "source": [
    "a = np.array([ 1, 2, 3, 4])\n",
    "b = np.array([-1,-2, 3, 4])\n",
    "print(f\"Binary operators work element wise: {a + b}\")"
   ]
  },
  {
   "cell_type": "code",
   "execution_count": 30,
   "id": "754a77e1-73cd-4e5e-ba0e-98c4dbc2507d",
   "metadata": {},
   "outputs": [
    {
     "name": "stdout",
     "output_type": "stream",
     "text": [
      "The error message you'll see is:\n",
      "operands could not be broadcast together with shapes (4,) (2,) \n"
     ]
    }
   ],
   "source": [
    "#try a mismatched vector operation\n",
    "c = np.array([1, 2])\n",
    "try:\n",
    "    d = a + c\n",
    "except Exception as e:\n",
    "    print(\"The error message you'll see is:\")\n",
    "    print(e)"
   ]
  },
  {
   "cell_type": "markdown",
   "id": "e69bdf45-40f0-4990-89db-113ab5f2f47c",
   "metadata": {},
   "source": [
    "##### Scalar Vector operations\n",
    "\n",
    "Vectors can be 'scaled' by scalar values. A scalar value is just a number. The scalar multiplies all the elements of the vector."
   ]
  },
  {
   "cell_type": "code",
   "execution_count": 32,
   "id": "5a5d588b-df32-44a8-836f-04a00e90cd65",
   "metadata": {},
   "outputs": [
    {
     "name": "stdout",
     "output_type": "stream",
     "text": [
      "b = 5 * a : [ 5 10 15 20]\n"
     ]
    }
   ],
   "source": [
    "a = np.array([1, 2, 3, 4])\n",
    "\n",
    "# multiply a by a scalar\n",
    "b = 5 * a \n",
    "print(f\"b = 5 * a : {b}\")"
   ]
  },
  {
   "cell_type": "markdown",
   "id": "f3388fbf-dbc7-42ae-8986-556003aeb567",
   "metadata": {},
   "source": [
    "##### Vector Vector dot product\n",
    "\n",
    "The dot product multiplies the values in two vectors element-wise and then sums the result. Vector dot product requires the dimensions of the two vectors to be the same."
   ]
  },
  {
   "cell_type": "code",
   "execution_count": 34,
   "id": "92f6153c-ae58-4d05-88f4-9d85969d7f81",
   "metadata": {},
   "outputs": [],
   "source": [
    "#using for loop first\n",
    "def my_dot(a,b):\n",
    "    x = 0\n",
    "    for i in range(a.shape[0]):\n",
    "        x = x +  a[i] * b[i]\n",
    "    return x"
   ]
  },
  {
   "cell_type": "code",
   "execution_count": 35,
   "id": "c7694ce1-b737-4f0b-89f7-9eb8b436c589",
   "metadata": {},
   "outputs": [
    {
     "name": "stdout",
     "output_type": "stream",
     "text": [
      "24\n"
     ]
    }
   ],
   "source": [
    "#test 1D\n",
    "a = np.array([1,2,3,4])\n",
    "b = np.array([-1,4,3,2])\n",
    "print (f\"{my_dot(a,b)}\")"
   ]
  },
  {
   "cell_type": "code",
   "execution_count": 36,
   "id": "d42fdd97-5578-40aa-9bce-0ef707c630ca",
   "metadata": {},
   "outputs": [
    {
     "name": "stdout",
     "output_type": "stream",
     "text": [
      "24\n",
      "24\n"
     ]
    }
   ],
   "source": [
    "#try using np.dot\n",
    "a = np.array([1,2,3,4])\n",
    "b = np.array([-1,4,3,2])\n",
    "c = np.dot(a,b)\n",
    "d = np.dot(b,a)\n",
    "print(c)\n",
    "print(d)"
   ]
  },
  {
   "cell_type": "markdown",
   "id": "c4cf6121-8104-497f-9672-d2d67d35fc2d",
   "metadata": {},
   "source": [
    "##### The Need for Speed: vector vs for loop"
   ]
  },
  {
   "cell_type": "code",
   "execution_count": 38,
   "id": "751452e1-929f-479a-b652-c4c4bc7f400c",
   "metadata": {},
   "outputs": [
    {
     "name": "stdout",
     "output_type": "stream",
     "text": [
      "2501072.5817\n",
      "27.1971ms\n",
      "2501072.5816813707\n",
      "5646.1115ms\n"
     ]
    }
   ],
   "source": [
    "np.random.seed(1)\n",
    "#Setting a seed ensures reproducibility — every time you run the code, it will produce the same sequence of random numbers.\n",
    "a = np.random.rand(10000000) #very large arrays\n",
    "b = np.random.rand(10000000)\n",
    "\n",
    "tic = time.time()\n",
    "c  = np.dot(a,b)\n",
    "toc = time.time()\n",
    "\n",
    "print(f\"{c:.4f}\")\n",
    "print(f\"{1000*(toc-tic):.4f}ms\")\n",
    "\n",
    "tic = time.time()\n",
    "c = my_dot(a,b)\n",
    "toc = time.time()\n",
    "\n",
    "print(c)\n",
    "print(f\"{1000*(toc-tic):.4f}ms\")"
   ]
  },
  {
   "cell_type": "markdown",
   "id": "1f7f4ece-0cad-4e51-a40a-6e98ac1acc32",
   "metadata": {},
   "source": [
    "\n",
    "So, vectorization provides a large speed up in this example. This is because NumPy makes better use of available data parallelism in the underlying hardware. GPU's and modern CPU's implement the Single Instruction, Multiple Data (SIMD) pipelines allowing multiple operations to be issued in parallel. This is critical in Machine Learning where the data sets are often very large."
   ]
  },
  {
   "cell_type": "markdown",
   "id": "83792d06-d4db-446f-97f0-4f123997a6a1",
   "metadata": {},
   "source": [
    "##### Vector Vector operations in Course 1"
   ]
  },
  {
   "cell_type": "code",
   "execution_count": 41,
   "id": "f746d8b4-f6cb-4ef3-88eb-b29c7db0b672",
   "metadata": {},
   "outputs": [
    {
     "name": "stdout",
     "output_type": "stream",
     "text": [
      "X[1] has shape (1,)\n",
      "X[1] has shape (4, 1)\n",
      "w has shape (1,) , [2]\n",
      "c has shape () , 4\n"
     ]
    }
   ],
   "source": [
    "# show common Course 1 example\n",
    "X = np.array([[1],[2],[3],[4]])\n",
    "w = np.array([2])\n",
    "c = np.dot(X[1], w)\n",
    "\n",
    "print(f\"X[1] has shape {X[1].shape}\")\n",
    "print(f\"X[1] has shape {X.shape}\")\n",
    "print(f\"w has shape {w.shape} , {w}\")\n",
    "print(f\"c has shape {c.shape} , {c}\")"
   ]
  },
  {
   "cell_type": "markdown",
   "id": "a6cadfab-7eb0-4814-a957-de2f2bddf8cc",
   "metadata": {},
   "source": [
    "### Matrices"
   ]
  },
  {
   "cell_type": "markdown",
   "id": "5007fb1f-09bc-430a-a06f-359a21bc8007",
   "metadata": {},
   "source": [
    "m = Number of rows <br>\n",
    "n = Number of columns <br>\n",
    "Course 1 does not do operations directly on matrices but typically extracts an example as a vector and operates on that. "
   ]
  },
  {
   "cell_type": "markdown",
   "id": "0b2cd048-65d8-49f6-89ea-a446adb64781",
   "metadata": {},
   "source": [
    "#### Creation\n",
    "\n",
    "Notice how NumPy uses brackets to denote each dimension. Notice further than NumPy, when printing, will print one row per line."
   ]
  },
  {
   "cell_type": "code",
   "execution_count": 45,
   "id": "0a3c8b1d-5e73-4fbb-b21e-d74ef60374b1",
   "metadata": {},
   "outputs": [
    {
     "name": "stdout",
     "output_type": "stream",
     "text": [
      "a shape = (1, 5), a = [[0. 0. 0. 0. 0.]]\n",
      "a shape = (2, 1), a = [[0.]\n",
      " [0.]]\n",
      "a shape = (1, 1), a = [[0.44236513]]\n"
     ]
    }
   ],
   "source": [
    "a = np.zeros((1, 5))                                       \n",
    "print(f\"a shape = {a.shape}, a = {a}\")                     \n",
    "\n",
    "a = np.zeros((2, 1))                                                                   \n",
    "print(f\"a shape = {a.shape}, a = {a}\") \n",
    "\n",
    "a = np.random.random_sample((1, 1))  \n",
    "print(f\"a shape = {a.shape}, a = {a}\") "
   ]
  },
  {
   "cell_type": "code",
   "execution_count": 46,
   "id": "1589ab5c-cf9a-4f86-b879-ec4ec6de0bca",
   "metadata": {},
   "outputs": [
    {
     "name": "stdout",
     "output_type": "stream",
     "text": [
      " a shape = (3, 1), np.array: a = [[5]\n",
      " [4]\n",
      " [3]]\n",
      " a shape = (3, 1), np.array: a = [[5]\n",
      " [4]\n",
      " [3]]\n"
     ]
    }
   ],
   "source": [
    "a = np.array([[5], [4], [3]]);   print(f\" a shape = {a.shape}, np.array: a = {a}\")\n",
    "a = np.array([[5],   # One can also\n",
    "              [4],   # separate values\n",
    "              [3]]); #into separate rows\n",
    "print(f\" a shape = {a.shape}, np.array: a = {a}\")"
   ]
  },
  {
   "cell_type": "markdown",
   "id": "08ce651e-5067-4bec-9fd4-08ea6ebd56cf",
   "metadata": {},
   "source": [
    "#### Operations"
   ]
  },
  {
   "cell_type": "markdown",
   "id": "97c12acf-dced-403e-a2dd-8522cd7ae9f7",
   "metadata": {},
   "source": [
    "##### Indexing \n",
    "\n",
    "\n",
    "Matrices include a second index. The two indexes describe [row, column]. Access can either return an element or a row/column."
   ]
  },
  {
   "cell_type": "code",
   "execution_count": 49,
   "id": "f471dac1-ec4b-4a22-a36f-e35d5ed0d47b",
   "metadata": {},
   "outputs": [
    {
     "name": "stdout",
     "output_type": "stream",
     "text": [
      "a.shape: (3, 2), \n",
      "a= [[0 1]\n",
      " [2 3]\n",
      " [4 5]]\n",
      "\n",
      "a[2,0].shape:   (), a[2,0] = 4,     type(a[2,0]) = <class 'numpy.int32'> Accessing an element returns a scalar\n",
      "\n",
      "a[2].shape:   (2,), a[2]   = [4 5], type(a[2])   = <class 'numpy.ndarray'>\n"
     ]
    }
   ],
   "source": [
    "# -1 means you compute this dimension automatically, based on the size of the array and the other dimensions I provide.\n",
    "# or we can say The -1 argument tells the routine to compute the number of rows given the size of the array and the number of columns.\n",
    "a = np.arange(6).reshape(-1, 2)\n",
    "print(f\"a.shape: {a.shape}, \\na= {a}\")\n",
    "\n",
    "#access an element\n",
    "print(f\"\\na[2,0].shape:   {a[2, 0].shape}, a[2,0] = {a[2, 0]},     type(a[2,0]) = {type(a[2, 0])} Accessing an element returns a scalar\\n\")\n",
    "\n",
    "#access a row\n",
    "print(f\"a[2].shape:   {a[2].shape}, a[2]   = {a[2]}, type(a[2])   = {type(a[2])}\")"
   ]
  },
  {
   "cell_type": "markdown",
   "id": "a9fb2c52-ddd4-4111-92bb-f63c68d0497e",
   "metadata": {},
   "source": [
    "##### Slicing \n"
   ]
  },
  {
   "cell_type": "code",
   "execution_count": 51,
   "id": "fd3008d9-307e-43d0-85c5-e1df83a4b7c3",
   "metadata": {},
   "outputs": [
    {
     "name": "stdout",
     "output_type": "stream",
     "text": [
      "a = \n",
      "[[ 0  1  2  3  4  5  6  7  8  9]\n",
      " [10 11 12 13 14 15 16 17 18 19]]\n",
      "a[0, 2:7:1] =  [2 3 4 5 6] ,  a[0, 2:7:1].shape = (5,) a 1-D array\n",
      "a[:, 2:7:1] = \n",
      " [[ 2  3  4  5  6]\n",
      " [12 13 14 15 16]] ,  a[:, 2:7:1].shape = (2, 5) a 2-D array\n",
      "a[:,:] = \n",
      " [[ 0  1  2  3  4  5  6  7  8  9]\n",
      " [10 11 12 13 14 15 16 17 18 19]] ,  a[:,:].shape = (2, 10)\n",
      "a[1,:] =  [10 11 12 13 14 15 16 17 18 19] ,  a[1,:].shape = (10,) a 1-D array\n",
      "a[1]   =  [10 11 12 13 14 15 16 17 18 19] ,  a[1].shape   = (10,) a 1-D array\n"
     ]
    }
   ],
   "source": [
    "#start : stop : step\n",
    "a = np.arange(20).reshape(-1, 10)\n",
    "print(f\"a = \\n{a}\")\n",
    "\n",
    "#access 5 consecutive elements (start:stop:step)\n",
    "print(\"a[0, 2:7:1] = \", a[0, 2:7:1], \",  a[0, 2:7:1].shape =\", a[0, 2:7:1].shape, \"a 1-D array\")\n",
    "\n",
    "#access 5 consecutive elements (start:stop:step) in two rows\n",
    "print(\"a[:, 2:7:1] = \\n\", a[:, 2:7:1], \",  a[:, 2:7:1].shape =\", a[:, 2:7:1].shape, \"a 2-D array\")\n",
    "\n",
    "# access all elements\n",
    "print(\"a[:,:] = \\n\", a[:,:], \",  a[:,:].shape =\", a[:,:].shape)\n",
    "\n",
    "# access all elements in one row (very common usage)\n",
    "print(\"a[1,:] = \", a[1,:], \",  a[1,:].shape =\", a[1,:].shape, \"a 1-D array\")\n",
    "# same as\n",
    "print(\"a[1]   = \", a[1],   \",  a[1].shape   =\", a[1].shape, \"a 1-D array\")"
   ]
  },
  {
   "cell_type": "markdown",
   "id": "c3cf0634-1cf6-49ae-a5a5-fccda952755f",
   "metadata": {},
   "source": [
    "### Gradient Descent for multiple linear regression\n",
    "\n",
    "You've learned about gradient descents about multiple linear regression and also vectorization. Let's put it all together to implement gradient descent for multiple linear regression with vectorization. <br>\n",
    "Explained the gradient descent for multiple features. <br>\n",
    "`AN ALTERNATIVE TO GRADIENT DESCENT` <br>\n",
    "This method is called normal equation. Runs only for linear regression. This method is used to find w and b and doesnt need gradient descent. It turns out to be possible to use an advanced linear algebra library to just solve for w and b all in one goal without iterations. Slow when numbers of features is large. `If you're using a mature machine learning library and call linear regression, there is a chance that on the backend, it'll be using this to solve for w and b.`"
   ]
  },
  {
   "cell_type": "markdown",
   "id": "f5196e40-effe-4084-b5c9-6057110fedbc",
   "metadata": {},
   "source": [
    "### Implementing Multiple linear regression model"
   ]
  },
  {
   "cell_type": "code",
   "execution_count": 54,
   "id": "bbec2785-e114-4ed7-a9cf-808e60e91449",
   "metadata": {},
   "outputs": [],
   "source": [
    "import copy,math\n",
    "import numpy as np\n",
    "import matplotlib.pyplot as plt\n",
    "%matplotlib inline\n",
    "plt.style.use(\"C:/Users/prish/Python/Machine_Learning/deeplearning.mplstyle\")\n",
    "np.set_printoptions(precision=2) #reduced display precision on numpy arrays\n",
    "#Show only 2 digits after the decimal point for floating-point numbers."
   ]
  },
  {
   "cell_type": "code",
   "execution_count": 55,
   "id": "15ebf568-a2c0-4522-ac6b-bf4c30b25000",
   "metadata": {},
   "outputs": [],
   "source": [
    "# a non bold is scalar whereas bold is vector\n",
    "# A is matrix\n",
    "# m is number of training examples basically rows\n",
    "# n is number of features in each example nasically columns\n",
    "\n",
    "# our training dataset  has 4 features and 3 examples and size is in sqft and not 1000 sqft\n",
    "X_train = np.array([[1204,5,1,45],[1416,3,2,40],[852,22,1,35]])\n",
    "Y_train = np.array([460,232,178])"
   ]
  },
  {
   "cell_type": "code",
   "execution_count": 56,
   "id": "c6211c55-9525-48ee-a1d4-fa34ea50799e",
   "metadata": {},
   "outputs": [
    {
     "name": "stdout",
     "output_type": "stream",
     "text": [
      "X_shape: (3, 4), X type:<class 'numpy.ndarray'>\n",
      "[[1204    5    1   45]\n",
      " [1416    3    2   40]\n",
      " [ 852   22    1   35]]\n",
      "Y_shape: (3,), Y type:<class 'numpy.ndarray'>\n",
      "[460 232 178]\n"
     ]
    }
   ],
   "source": [
    "#data is stored in numpy array/matrix\n",
    "print(f\"X_shape: {X_train.shape}, X type:{type(X_train)}\")\n",
    "print(X_train)\n",
    "print(f\"Y_shape: {Y_train.shape}, Y type:{type(Y_train)}\")\n",
    "print(Y_train)"
   ]
  },
  {
   "cell_type": "code",
   "execution_count": 57,
   "id": "529a85b7-7a74-40f8-8ca4-b60f27982293",
   "metadata": {},
   "outputs": [
    {
     "name": "stdout",
     "output_type": "stream",
     "text": [
      "w_init shape : (4,), b_init type: <class 'float'>\n"
     ]
    }
   ],
   "source": [
    "b_init = 785.1811367994083\n",
    "w_init = np.array([ 0.39133535, 18.75376741, -53.36032453, -26.42131618])\n",
    "# w and b will be loaded with some initial selected values that are near the optimal\n",
    "print(f\"w_init shape : {w_init.shape}, b_init type: {type(b_init)}\")"
   ]
  },
  {
   "cell_type": "markdown",
   "id": "2f1e3664-cab9-4310-a6ce-4fabdfcc68d4",
   "metadata": {},
   "source": [
    "#### Single Prediction element by element"
   ]
  },
  {
   "cell_type": "markdown",
   "id": "baa8a281-b9e7-4939-a3fd-c6ffe8873468",
   "metadata": {},
   "source": [
    "A direct extension of our previous implementation of prediction to multiple features would be to implement (1) above using loop over each element, performing the multiply with its parameter and then adding the bias parameter at the end."
   ]
  },
  {
   "cell_type": "code",
   "execution_count": 60,
   "id": "1b047e93-cd2b-497d-9a7d-d2c99027e73b",
   "metadata": {},
   "outputs": [],
   "source": [
    "def predict_single_loop(x,w,b): #we are finding cost here\n",
    "    '''\n",
    "    Single predict using linear regression\n",
    "    Args:\n",
    "        x (ndarray): Shape (n,) example with multiple features\n",
    "        w (ndarray): Shape (n,) model parameters    \n",
    "        b (scalar):  model parameter\n",
    "    Retuns:\n",
    "        p(scalar) : prediction\n",
    "    '''\n",
    "    n = x.shape[0]\n",
    "    p = 0\n",
    "    for i in range(n):\n",
    "        p_i = x[i] * w[i]\n",
    "        p = p + p_i\n",
    "    p = p + b\n",
    "    return p"
   ]
  },
  {
   "cell_type": "code",
   "execution_count": 61,
   "id": "b55f4288-e002-46d7-9c49-87ba1de8bb13",
   "metadata": {},
   "outputs": [
    {
     "name": "stdout",
     "output_type": "stream",
     "text": [
      "x_vec shape : (4,), x_vec value: [1204    5    1   45]\n",
      "107.79818261940818\n"
     ]
    }
   ],
   "source": [
    "#get a row from our training data\n",
    "x_vec = X_train[0,:]\n",
    "print(f\"x_vec shape : {x_vec.shape}, x_vec value: {x_vec}\")\n",
    "\n",
    "#make a prediction\n",
    "f_wb = predict_single_loop(x_vec, w_init, b_init)\n",
    "print(f_wb)\n",
    "#u cant apply .shape on float"
   ]
  },
  {
   "cell_type": "markdown",
   "id": "a726886f-a1ed-4f3b-82d9-5ae991bc4530",
   "metadata": {},
   "source": [
    "#### Making use of Dot function to make our code smaller "
   ]
  },
  {
   "cell_type": "code",
   "execution_count": 63,
   "id": "11079616-24c3-4c1d-8e50-9f15acaa4817",
   "metadata": {},
   "outputs": [],
   "source": [
    "def predict(x,w,b):\n",
    "    p = np.dot(x,w) + b\n",
    "    return p"
   ]
  },
  {
   "cell_type": "code",
   "execution_count": 64,
   "id": "b86ef512-82c8-4ad8-aa47-5677e6a3ed03",
   "metadata": {},
   "outputs": [
    {
     "name": "stdout",
     "output_type": "stream",
     "text": [
      "x_vec shape (4,), x_vec value : [1204    5    1   45]\n",
      "() 107.79818261940818\n"
     ]
    }
   ],
   "source": [
    "#now doing the prediction\n",
    "x_vec = X_train[0,:]\n",
    "print(f\"x_vec shape {x_vec.shape}, x_vec value : {x_vec}\")\n",
    "\n",
    "#make a prediction\n",
    "f_wb = predict(x_vec, w_init, b_init)\n",
    "print(f_wb.shape , f_wb)"
   ]
  },
  {
   "cell_type": "markdown",
   "id": "dbc4dcdc-965e-4d1e-9350-4301c28fa3e0",
   "metadata": {},
   "source": [
    "The results from both are same and going forward np.dot will be used for these operations. The prediction is now single statement."
   ]
  },
  {
   "cell_type": "markdown",
   "id": "088f6c2b-bf0e-43b5-89a4-c46ca90d2ba0",
   "metadata": {},
   "source": [
    "#### Computing Cost with Multiple Variables"
   ]
  },
  {
   "cell_type": "code",
   "execution_count": 67,
   "id": "6ac34658-3bd2-425d-a7e4-6e7df243afbf",
   "metadata": {},
   "outputs": [],
   "source": [
    "def compute_cost(x,y,w,b):\n",
    "    \"\"\"\n",
    "    compute cost\n",
    "    Args:\n",
    "      X (ndarray (m,n)): Data, m examples with n features\n",
    "      y (ndarray (m,)) : target values\n",
    "      w (ndarray (n,)) : model parameters  \n",
    "      b (scalar)       : model parameter\n",
    "      \n",
    "    Returns:\n",
    "      cost (scalar): cost\n",
    "    \"\"\"   \n",
    "    m = x.shape[0]\n",
    "    cost = 0.0\n",
    "    for i in range(m):\n",
    "        #yaha par x[i] gives a particular row with all features and x[i],w ka dot product is directly giving the answer of multiplying all features with their weights\n",
    "        f_wb_i = np.dot(x[i],w) + b\n",
    "        cost = cost + (f_wb_i - y[i])**2\n",
    "    cost = cost / (2*m)\n",
    "    return cost "
   ]
  },
  {
   "cell_type": "code",
   "execution_count": 68,
   "id": "9033b4b5-e8f8-4d71-b68c-e0daf0ef7dab",
   "metadata": {},
   "outputs": [
    {
     "name": "stdout",
     "output_type": "stream",
     "text": [
      "Cost at optimal w : 44121.272705907795\n"
     ]
    }
   ],
   "source": [
    "#compute and display cost using our pre-chosen optimal parameters\n",
    "cost = compute_cost(X_train,Y_train,w_init,b_init)\n",
    "print(f'Cost at optimal w : {cost}')"
   ]
  },
  {
   "cell_type": "markdown",
   "id": "509a558e-653f-484b-bbdf-8545917821fb",
   "metadata": {},
   "source": [
    "#### Gradient with multiple variables\n",
    "\n",
    "Here there is an outer loop over all m examples. dj_db for all examples can be computed directly. <br>\n",
    "in second loop over all n features. dj_dw_j is computed for each w_j"
   ]
  },
  {
   "cell_type": "code",
   "execution_count": 70,
   "id": "00002198-0861-4a50-bb22-4a904cda7201",
   "metadata": {},
   "outputs": [],
   "source": [
    "def compute_gradient(x,y,w,b):\n",
    "    '''\n",
    "    Computes the gradient for linear regression\n",
    "    Args:\n",
    "        x: Data, m examples with n features\n",
    "        y: Target values\n",
    "        x: model parameters\n",
    "        b: model parameter\n",
    "    Returns:\n",
    "    dj_dw and dj_db\n",
    "    '''\n",
    "    m,n = x.shape #number of examples and number of features\n",
    "    dj_dw = np.zeros((n,))\n",
    "    dj_db = 0.\n",
    "\n",
    "    for i in range(m):\n",
    "        err = (np.dot(x[i],w) + b) - y[i]\n",
    "        for j in range(n):\n",
    "            dj_dw[j] = dj_dw[j] + err*x[i,j]\n",
    "        dj_db = dj_db + err\n",
    "    dj_dw = dj_dw / m\n",
    "    dj_db = dj_db / m\n",
    "\n",
    "    return dj_db, dj_dw"
   ]
  },
  {
   "cell_type": "code",
   "execution_count": 71,
   "id": "a7e3a2ef-f130-485d-b3dd-937e91e33ffa",
   "metadata": {},
   "outputs": [
    {
     "name": "stdout",
     "output_type": "stream",
     "text": [
      "7.6245093927415155\n",
      "\n",
      " [-3.48e+04  2.16e+03  7.62e+00 -9.07e+02]\n"
     ]
    }
   ],
   "source": [
    "#compute and display gradient\n",
    "tmp_dj_db,tmp_dj_dw = compute_gradient(X_train,Y_train,w_init,b_init)\n",
    "print(tmp_dj_db)\n",
    "print('\\n' , tmp_dj_dw)"
   ]
  },
  {
   "cell_type": "markdown",
   "id": "5ecbc57e-5918-453d-889f-12052fca3b56",
   "metadata": {},
   "source": [
    "#### Gradient Descent with multiple Variables"
   ]
  },
  {
   "cell_type": "code",
   "execution_count": 73,
   "id": "997d482d-7d57-42b3-8333-7adb8251c490",
   "metadata": {},
   "outputs": [],
   "source": [
    "def gradient_descent(x,y,w_in,b_in,cost_function,gradient_function, alpha, num_iters):\n",
    "    '''\n",
    "    Performs batch gradient descent to learn theta. Updates theta by taking \n",
    "    num_iters gradient steps with learning rate alpha\n",
    "    Returns:\n",
    "        w : updated values of parameters\n",
    "        b : updated value of paramter\n",
    "        J_hist : cost value history\n",
    "    '''\n",
    "    J_hist = []\n",
    "    w = copy.deepcopy(w_in)\n",
    "    b = b_in\n",
    "\n",
    "    for i in range(num_iters):\n",
    "        dj_db,dj_dw = gradient_function(x,y,w,b)\n",
    "\n",
    "        w = w - alpha * dj_dw\n",
    "        b = b - alpha *  dj_db\n",
    "\n",
    "        if i<100000:\n",
    "            J_hist.append(cost_function(x,y,w,b))\n",
    "\n",
    "        if i%math.ceil(num_iters / 10) == 0:\n",
    "            print(f\"Iteration {i:4d} : Cost {J_hist[-1]:8.2f} \")\n",
    "\n",
    "    return w,b,J_hist"
   ]
  },
  {
   "cell_type": "code",
   "execution_count": 74,
   "id": "102f8cd5-6589-4b8b-a982-13654c987149",
   "metadata": {},
   "outputs": [
    {
     "name": "stdout",
     "output_type": "stream",
     "text": [
      "Iteration    0 : Cost 10788.03 \n",
      "Iteration  100 : Cost  6877.80 \n",
      "Iteration  200 : Cost  6866.15 \n",
      "Iteration  300 : Cost  6854.52 \n",
      "Iteration  400 : Cost  6842.92 \n",
      "Iteration  500 : Cost  6831.35 \n",
      "Iteration  600 : Cost  6819.81 \n",
      "Iteration  700 : Cost  6808.30 \n",
      "Iteration  800 : Cost  6796.81 \n",
      "Iteration  900 : Cost  6785.36 \n",
      "b,w found : 0.00,[ 0.24 -0.04 -0.02  0.24]\n",
      "Prediction: 299.06 , target value : 460\n",
      "Prediction: 348.68 , target value : 232\n",
      "Prediction: 211.57 , target value : 178\n"
     ]
    }
   ],
   "source": [
    "initial_w = np.zeros_like(w_init)\n",
    "initial_b = 0.\n",
    "iterations = 1000\n",
    "alpha = 5.0e-7\n",
    "w_final,b_final,J_hist = gradient_descent(X_train, Y_train,initial_w,initial_b,compute_cost,compute_gradient,alpha,iterations)\n",
    "print(f\"b,w found : {b_final:0.2f},{w_final}\")\n",
    "m, _ = X_train.shape\n",
    "for i in range(m):\n",
    "    print(f'Prediction: {np.dot(X_train[i],w_final) + b_final:0.2f} , target value : {Y_train[i]}')"
   ]
  },
  {
   "cell_type": "code",
   "execution_count": 75,
   "id": "5a202dba-bd49-49e1-a8b4-2d648f99d275",
   "metadata": {},
   "outputs": [
    {
     "data": {
      "text/plain": [
       "Text(0.5, 0, 'iteration step')"
      ]
     },
     "execution_count": 75,
     "metadata": {},
     "output_type": "execute_result"
    },
    {
     "data": {
      "image/png": "[encoded data removed]",
      "text/plain": [
       "<Figure size 1200x400 with 2 Axes>"
      ]
     },
     "metadata": {},
     "output_type": "display_data"
    }
   ],
   "source": [
    "# plot cost versus iteration  \n",
    "fig, (ax1, ax2) = plt.subplots(1, 2, constrained_layout=True, figsize=(12, 4))\n",
    "ax1.plot(J_hist)\n",
    "ax2.plot(100 + np.arange(len(J_hist[100:])), J_hist[100:])\n",
    "ax1.set_title(\"Cost vs. iteration\");  ax2.set_title(\"Cost vs. iteration (tail)\")\n",
    "ax1.set_ylabel('Cost')             ;  ax2.set_ylabel('Cost') \n",
    "ax1.set_xlabel('iteration step')   ;  ax2.set_xlabel('iteration step') "
   ]
  },
  {
   "cell_type": "markdown",
   "id": "b059a615-cf03-45a0-86a3-c13cb6809af1",
   "metadata": {},
   "source": [
    "These results are not inspiring! Cost is still declining and our predictions are not very accurate. The next lab will explore how to improve on this."
   ]
  },
  {
   "cell_type": "markdown",
   "id": "f2115540-d64a-42c5-8a1a-c9cf47779545",
   "metadata": {},
   "source": [
    "### Feature Scaling "
   ]
  },
  {
   "cell_type": "markdown",
   "id": "a2ace6f7-0841-4731-9f98-a3ddb244ae70",
   "metadata": {},
   "source": [
    "You see a technique called feature scaling that will enable gradient descent to run much faster. Notice that when a possible range of values of a feature is large, like the size and square feet which goes all the way up to 2000. It's more likely that a good model will learn to choose a relatively small parameter value, like 0.1. Likewise, when the possible values of the feature are small, like the number of bedrooms, then a reasonable value for its parameters will be relatively large like 50.\n",
    "\n",
    "In Scatter plot for features where size is on x axis and bedrooms on y axis, in that the points will lie mostly in lower part of graph above x since bedrooms ranges between 0-5 but it would be scattered all over the x axis since size range from 300-2000. <br>\n",
    "The contours form ovals or ellipses and they're short on one side and longer on the other. And this is because a very small change to w1 can have a very large impact on the estimated price and that's a very large impact on the cost J. Because w1 tends to be multiplied by a very large number, the size and square feet. In contrast, it takes a much larger change in w2 in order to change the predictions much. And thus small changes to w2, don't change the cost function nearly as much.\n",
    "![Contour Plot](Contour_plot.png)"
   ]
  },
  {
   "cell_type": "markdown",
   "id": "a63696ed-1742-4d7f-8150-380a32885466",
   "metadata": {},
   "source": [
    "Because the contours are so tall and skinny gradient descent may end up bouncing back and forth for a long time before it can finally find its way to the global minimum. In situations like this, a useful thing to do is to scale the features. This means performing some transformation of your training data so that x1 say might now range from 0 to 1 and x2 might also range from 0 to 1. So the data points now look more like this and you might notice that the scale of the plot on the bottom is now quite different than the one on top.\n",
    "![Scatter_Plot](Scatter_Plot.png) <br>\n",
    "Now the the contours will look more like more like circles and less tall and skinny. And gradient descent can find much more direct path to the global minimum."
   ]
  },
  {
   "cell_type": "markdown",
   "id": "0e5961a3-d6d6-4520-94aa-0e1902dddcb2",
   "metadata": {},
   "source": [
    "So to recap, when you have different features that take on very different ranges of values, it can cause gradient descent to run slowly but re scaling the different features so they all take on comparable range of values. because speed, upgrade and dissent significantly. "
   ]
  },
  {
   "cell_type": "markdown",
   "id": "bd85423b-2af8-4e76-b45d-e8bd5d3ed2c4",
   "metadata": {},
   "source": [
    "METHODS OF FEATURE SCALING\n",
    "\n",
    "1. Dividing by maximum <br>\n",
    "Suppose we have x1 ranges from 300 to 2000. Then one method to scale is to divide all original values by 2000 i.e maximum of range. And hence the range of x1 becomes now between 0.15 to 1. X2 ranges from 0 to 5 then u can have its scale version by dividing all values by maximum of range i.e 5. And it will now range from 0 to 1 <br>\n",
    "\n",
    "2. Mean Normalization <br>\n",
    "You start with the original features and then you re-scale them so that both of them are centered around zero. Whereas before they only had values greater than zero, now they have both negative and positive values that may be usually between negative one and plus one. <br>\n",
    "Find mean of each feature. Then <br>\n",
    " ` x1 = (x1-mean)/(max-min)` <br>\n",
    "Now x1 will range between -0.18 to 0.82. Similarly for x2. <br>\n",
    "\n",
    "3. Z-score normalization\n",
    "Find mean and sd for each feature. <br>\n",
    "`x1 = (x1-mean)/sd` <br>"
   ]
  },
  {
   "cell_type": "markdown",
   "id": "071cb2a4-78c6-4c73-80c0-bbf9fc1364ee",
   "metadata": {},
   "source": [
    "Mostly we try to bring the range between -1 to 1 but sometimes it is acceptable to have range between -3 to 3 or -0.3 to 0.3 or 0 to 3. Then its totally your wish whether to rescale it or not. But if the values range between very large like -100 to 100 or very small like -0.001 to 0.001 then u have rescale."
   ]
  },
  {
   "cell_type": "markdown",
   "id": "7207e61e-666e-46bc-93d7-6cc11af3cf76",
   "metadata": {},
   "source": [
    "### Checking gradient descent for convergence\n",
    "\n",
    "1. Learning curve<br>\n",
    "What I'll often do is plot the cost function J, which is calculated on the training set, and I plot the value of J at each iteration of gradient descent. \n",
    "![Learning_Curve](Learning_curve.png) <br>\n",
    "If gradient descent is working properly, then the cost J should decrease after every single iteration. If J ever increases after one iteration, that means either Alpha is chosen poorly, and it usually means Alpha is too large, or there could be a bug in the code. By 400 iterations, it looks like the curve has flattened out. This means that gradient descent has more or less converged because the curve is no longer decreasing. It turns out to be very difficult to tell in advance how many iterations gradient descent needs to converge, which is why you can create a graph like this, a learning curve.\n",
    "\n",
    "2. Automatic convergence test <br>\n",
    "Let's let epsilon be a variable representing a small number, such as 0.001 or 10^-3. If the cost J decreases by less than this number epsilon on one iteration, then you're likely on this flattened part of the curve that you see on the left and you can declare convergence.I usually find that choosing the right threshold epsilon is pretty difficult. "
   ]
  },
  {
   "cell_type": "markdown",
   "id": "ef628629-26f7-4fba-b20a-e595d079e600",
   "metadata": {},
   "source": [
    "### Choosing the learning rate\n",
    "\n",
    "So if gradient descent isn't working, one thing I often do and I hope you find this tip useful too, one thing I'll often do is just set Alpha to be a very small number and see if that causes the cost to decrease on every iteration. If even with Alpha set to a very small number, J doesn't decrease on every single iteration, but instead sometimes increases, then that usually means there's a bug somewhere in the code. Take alpha 0.001 or then 0.01 then 0.1. For each iteration run a handful of iterations and plot the cost function. Plot the cost function J as a function of the number of iterations and after trying a few different values, you might then pick the value of Alpha that seems to decrease the learning rate rapidly, but also consistently. <br>\n",
    "`After trying 0.001 , try 0.003 i.e increasing the rate by 3 folds. The 0.01 i.e again increasing the rate by 3 folds and so on.`"
   ]
  },
  {
   "cell_type": "markdown",
   "id": "7ff9de02-547a-4f05-8d98-62dfecd1847a",
   "metadata": {},
   "source": [
    "## Implementing feature-scaling and learning rate (Multi-variable)"
   ]
  },
  {
   "cell_type": "code",
   "execution_count": null,
   "id": "7b082fb1-fa58-4af9-aa39-06d2e2cbe6a5",
   "metadata": {},
   "outputs": [],
   "source": []
  }
 ],
 "metadata": {
  "kernelspec": {
   "display_name": "Python 3 (ipykernel)",
   "language": "python",
   "name": "python3"
  },
  "language_info": {
   "codemirror_mode": {
    "name": "ipython",
    "version": 3
   },
   "file_extension": ".py",
   "mimetype": "text/x-python",
   "name": "python",
   "nbconvert_exporter": "python",
   "pygments_lexer": "ipython3",
   "version": "3.12.4"
  }
 },
 "nbformat": 4,
 "nbformat_minor": 5
}
