{
 "cells": [
  {
   "cell_type": "markdown",
   "id": "9a4a9b2d-4528-43a2-8afd-abb7df6cfc58",
   "metadata": {},
   "source": [
    "# Basics of Python\n",
    "\n",
    "we will learn \n",
    "\n",
    "- various datatypes in python\n",
    "- variable\n",
    "- variables assignment\n",
    "- print formatting"
   ]
  },
  {
   "cell_type": "markdown",
   "id": "f515a8f7-006c-4bdb-9cb7-9ea19df5dc3e",
   "metadata": {},
   "source": [
    "# Various Types of Datatypes"
   ]
  },
  {
   "cell_type": "markdown",
   "id": "f3d33ef7-1fce-4d1b-aa86-227405bb0fc0",
   "metadata": {},
   "source": [
    "### 1. Numbers "
   ]
  },
  {
   "cell_type": "code",
   "execution_count": 24,
   "id": "ccb28752-3759-4809-a020-a1e985fb9688",
   "metadata": {},
   "outputs": [
    {
     "data": {
      "text/plain": [
       "'\\nFor multiple line comments\\n'"
      ]
     },
     "execution_count": 24,
     "metadata": {},
     "output_type": "execute_result"
    }
   ],
   "source": [
    "# single hash in markdown means its major heading\n",
    "# ## means its sub heading in markdown\n",
    "# - helps  you make bullets in markdown\n",
    "#after writing everything u have to run the cell by using shortcut shift+enter(even run the markdown cells)\n",
    "\n",
    "\n",
    "# for single line comments\n",
    "\n",
    "\n",
    "'''\n",
    "For multiple line comments\n",
    "'''\n",
    "\n",
    "#adding new cell shortcut   esc+A\n",
    "#kernel is compiler here\n",
    "#if anything wrong happens with notebook then just restart kernel\n"
   ]
  },
  {
   "cell_type": "code",
   "execution_count": 26,
   "id": "2d5840b7-76ea-424f-a126-ffeca8875182",
   "metadata": {},
   "outputs": [
    {
     "data": {
      "text/plain": [
       "2"
      ]
     },
     "execution_count": 26,
     "metadata": {},
     "output_type": "execute_result"
    }
   ],
   "source": [
    "1+1"
   ]
  },
  {
   "cell_type": "code",
   "execution_count": 28,
   "id": "76236add-d1d9-41b4-8aa2-b403748ba675",
   "metadata": {},
   "outputs": [
    {
     "data": {
      "text/plain": [
       "80"
      ]
     },
     "execution_count": 28,
     "metadata": {},
     "output_type": "execute_result"
    }
   ],
   "source": [
    "4*20"
   ]
  },
  {
   "cell_type": "code",
   "execution_count": 30,
   "id": "5b38c659-b008-4057-bf5e-b295fc286722",
   "metadata": {},
   "outputs": [
    {
     "data": {
      "text/plain": [
       "5.0"
      ]
     },
     "execution_count": 30,
     "metadata": {},
     "output_type": "execute_result"
    }
   ],
   "source": [
    "10/2"
   ]
  },
  {
   "cell_type": "code",
   "execution_count": 32,
   "id": "a70ffb14-d901-4666-b73c-7e787579c5f3",
   "metadata": {},
   "outputs": [
    {
     "data": {
      "text/plain": [
       "0"
      ]
     },
     "execution_count": 32,
     "metadata": {},
     "output_type": "execute_result"
    }
   ],
   "source": [
    "10%2"
   ]
  },
  {
   "cell_type": "code",
   "execution_count": 34,
   "id": "1391c464-dffa-45c5-88de-8266f12ea2e8",
   "metadata": {},
   "outputs": [
    {
     "data": {
      "text/plain": [
       "100"
      ]
     },
     "execution_count": 34,
     "metadata": {},
     "output_type": "execute_result"
    }
   ],
   "source": [
    "10**2 #10 to the power 2"
   ]
  },
  {
   "cell_type": "code",
   "execution_count": 40,
   "id": "96d3628a-ec3d-4bdb-90d9-8e72139a6b00",
   "metadata": {},
   "outputs": [
    {
     "data": {
      "text/plain": [
       "'stcstcstcstcstcstcstcstcstcstc'"
      ]
     },
     "execution_count": 40,
     "metadata": {},
     "output_type": "execute_result"
    }
   ],
   "source": [
    "#on string, the string gets multiplied 10 times and get displayed\n",
    "10 * 'stc' "
   ]
  },
  {
   "cell_type": "code",
   "execution_count": 46,
   "id": "48ecf528-830c-4f83-88d3-252dc77bddf9",
   "metadata": {},
   "outputs": [
    {
     "data": {
      "text/plain": [
       "int"
      ]
     },
     "execution_count": 46,
     "metadata": {},
     "output_type": "execute_result"
    }
   ],
   "source": [
    "type(1)\n",
    "# checking datatype of a particular value or variable\n",
    "#this is in built function"
   ]
  },
  {
   "cell_type": "code",
   "execution_count": 48,
   "id": "be838bb2-e9cc-42e3-b85b-33d74bc8b676",
   "metadata": {},
   "outputs": [
    {
     "data": {
      "text/plain": [
       "float"
      ]
     },
     "execution_count": 48,
     "metadata": {},
     "output_type": "execute_result"
    }
   ],
   "source": [
    "type(10.0)\n"
   ]
  },
  {
   "cell_type": "code",
   "execution_count": 52,
   "id": "a69392ea-c14e-4fd4-8df2-ab6a74549d8d",
   "metadata": {},
   "outputs": [
    {
     "data": {
      "text/plain": [
       "str"
      ]
     },
     "execution_count": 52,
     "metadata": {},
     "output_type": "execute_result"
    }
   ],
   "source": [
    "type(\"hello\")"
   ]
  },
  {
   "cell_type": "code",
   "execution_count": 56,
   "id": "3b545cd1-b5da-4a43-973d-b4cd05507c3e",
   "metadata": {},
   "outputs": [
    {
     "data": {
      "text/plain": [
       "bool"
      ]
     },
     "execution_count": 56,
     "metadata": {},
     "output_type": "execute_result"
    }
   ],
   "source": [
    "type(True)\n",
    "#in build/ reserved keywords in python....True False int float etc."
   ]
  },
  {
   "cell_type": "markdown",
   "id": "2f0687b7-9dd7-45fd-b90f-a088e90224b7",
   "metadata": {},
   "source": [
    "### 2. Strings"
   ]
  },
  {
   "cell_type": "code",
   "execution_count": 59,
   "id": "e2133870-8d3b-4911-92b8-db8fb915714d",
   "metadata": {},
   "outputs": [],
   "source": [
    "#strings can be defined by either single or double quotes"
   ]
  },
  {
   "cell_type": "code",
   "execution_count": 1,
   "id": "c1f60846-9bc2-4b7d-a811-09d3036e480d",
   "metadata": {},
   "outputs": [
    {
     "data": {
      "text/plain": [
       "'hello'"
      ]
     },
     "execution_count": 1,
     "metadata": {},
     "output_type": "execute_result"
    }
   ],
   "source": [
    "'hello'"
   ]
  },
  {
   "cell_type": "code",
   "execution_count": 3,
   "id": "a8b53950-5c72-40b8-b5eb-624728443491",
   "metadata": {},
   "outputs": [
    {
     "data": {
      "text/plain": [
       "'hello'"
      ]
     },
     "execution_count": 3,
     "metadata": {},
     "output_type": "execute_result"
    }
   ],
   "source": [
    "\"hello\""
   ]
  },
  {
   "cell_type": "code",
   "execution_count": 5,
   "id": "8c245515-0442-48a8-9886-4da4de12cdf4",
   "metadata": {},
   "outputs": [
    {
     "data": {
      "text/plain": [
       "str"
      ]
     },
     "execution_count": 5,
     "metadata": {},
     "output_type": "execute_result"
    }
   ],
   "source": [
    "type(\"hello\")"
   ]
  },
  {
   "cell_type": "markdown",
   "id": "f7882845-85c3-4006-a156-468b6a0d9a63",
   "metadata": {},
   "source": [
    "### 3. Variable Assignment"
   ]
  },
  {
   "cell_type": "code",
   "execution_count": 8,
   "id": "cbff48f0-0720-4c1f-9a57-eed680500fef",
   "metadata": {},
   "outputs": [],
   "source": [
    "#syntax\n",
    "#var_name = values"
   ]
  },
  {
   "cell_type": "code",
   "execution_count": 12,
   "id": "cf1d25ef-2cd0-42bd-8c79-0a28b36a924b",
   "metadata": {},
   "outputs": [],
   "source": [
    "a=10\n",
    "#here no need to specify the type of variable\n",
    "#the compiler will khud se understand what value is it\n",
    "#and datatype will be set according to that"
   ]
  },
  {
   "cell_type": "code",
   "execution_count": 16,
   "id": "40f21b88-50cb-498c-a5b2-c1e927981d17",
   "metadata": {},
   "outputs": [
    {
     "data": {
      "text/plain": [
       "int"
      ]
     },
     "execution_count": 16,
     "metadata": {},
     "output_type": "execute_result"
    }
   ],
   "source": [
    "type(a)\n"
   ]
  },
  {
   "cell_type": "code",
   "execution_count": 18,
   "id": "1308f722-19b9-4784-b39d-3e997627abb4",
   "metadata": {},
   "outputs": [
    {
     "data": {
      "text/plain": [
       "str"
      ]
     },
     "execution_count": 18,
     "metadata": {},
     "output_type": "execute_result"
    }
   ],
   "source": [
    "a='Prisha'\n",
    "type(a)"
   ]
  },
  {
   "cell_type": "code",
   "execution_count": 22,
   "id": "511ed198-cf08-43ab-8dd1-286a165d0c59",
   "metadata": {},
   "outputs": [],
   "source": [
    "#Mathematical operation with variable Assignment\n",
    "\n",
    "a=10\n",
    "b=20"
   ]
  },
  {
   "cell_type": "code",
   "execution_count": 26,
   "id": "c1ac3061-8c8c-4f72-8538-e520949dd709",
   "metadata": {},
   "outputs": [
    {
     "name": "stdout",
     "output_type": "stream",
     "text": [
      "200\n",
      "0.5\n",
      "10\n",
      "200.5\n"
     ]
    }
   ],
   "source": [
    "print(a*b)\n",
    "print(a/b)\n",
    "print(a%b)\n",
    "print((a*b)+(a/b)) #BOBMAS followed"
   ]
  },
  {
   "cell_type": "code",
   "execution_count": 28,
   "id": "d3993b6e-27de-47d8-8982-6ec23f29e271",
   "metadata": {},
   "outputs": [
    {
     "name": "stdout",
     "output_type": "stream",
     "text": [
      "Hello\n"
     ]
    }
   ],
   "source": [
    "#various ways of printing\n",
    "\n",
    "print(\"Hello\")"
   ]
  },
  {
   "cell_type": "code",
   "execution_count": 32,
   "id": "b79d0e1b-7151-4a75-9b1f-36d3dd41b1ef",
   "metadata": {},
   "outputs": [],
   "source": [
    "#in order to understand what an inbuilt function does then before bracket of that function just press shift+tab and u will know its work"
   ]
  },
  {
   "cell_type": "code",
   "execution_count": 44,
   "id": "d0298f01-a440-4a1f-9e27-42d38937ee7d",
   "metadata": {},
   "outputs": [],
   "source": [
    "first_name='Prisha'\n",
    "last_name='Aggarwal'"
   ]
  },
  {
   "cell_type": "code",
   "execution_count": 46,
   "id": "a44e7ad5-5cb5-444f-b9b9-0b85612b669d",
   "metadata": {},
   "outputs": [
    {
     "name": "stdout",
     "output_type": "stream",
     "text": [
      "My first name is Prisha and last name is Aggarwal\n"
     ]
    }
   ],
   "source": [
    "print(\"My first name is {} and last name is {}\".format(first_name,last_name))\n",
    "#its the dot format where phele paranthesis get replaced by first value given\n",
    "#order is imp"
   ]
  },
  {
   "cell_type": "code",
   "execution_count": 48,
   "id": "db65026f-a16e-4854-bf5e-f9fc81031128",
   "metadata": {},
   "outputs": [
    {
     "name": "stdout",
     "output_type": "stream",
     "text": [
      "My first name is Prisha and last name is Aggarwal\n"
     ]
    }
   ],
   "source": [
    "print(\"My first name is {first} and last name is {last}\".format(first=first_name,last=last_name))"
   ]
  },
  {
   "cell_type": "code",
   "execution_count": 53,
   "id": "65d006fe-88d2-4731-86b7-3b40ec852d2d",
   "metadata": {},
   "outputs": [
    {
     "data": {
      "text/plain": [
       "6"
      ]
     },
     "execution_count": 53,
     "metadata": {},
     "output_type": "execute_result"
    }
   ],
   "source": [
    "len('Prisha') #inbuild function in python"
   ]
  },
  {
   "cell_type": "code",
   "execution_count": 57,
   "id": "8a67c1a6-acbc-469b-8db3-da57b55d339d",
   "metadata": {},
   "outputs": [
    {
     "data": {
      "text/plain": [
       "list"
      ]
     },
     "execution_count": 57,
     "metadata": {},
     "output_type": "execute_result"
    }
   ],
   "source": [
    "type(['1',2,3]) #list is collection of items"
   ]
  }
 ],
 "metadata": {
  "kernelspec": {
   "display_name": "Python 3 (ipykernel)",
   "language": "python",
   "name": "python3"
  },
  "language_info": {
   "codemirror_mode": {
    "name": "ipython",
    "version": 3
   },
   "file_extension": ".py",
   "mimetype": "text/x-python",
   "name": "python",
   "nbconvert_exporter": "python",
   "pygments_lexer": "ipython3",
   "version": "3.12.4"
  }
 },
 "nbformat": 4,
 "nbformat_minor": 5
}
