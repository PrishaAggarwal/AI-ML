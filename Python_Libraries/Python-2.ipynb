{
 "cells": [
  {
   "cell_type": "markdown",
   "id": "e209a782-025c-4e9a-b7cc-e188f37b92e1",
   "metadata": {},
   "source": [
    "# Python Data Structures and Boolean\n",
    "\n",
    "- Boolean\n",
    "- Boolean and Logical Operators\n",
    "- Lists\n",
    "- Comparision Operators"
   ]
  },
  {
   "cell_type": "markdown",
   "id": "63256240-e6e6-459d-94c4-4154a57870e6",
   "metadata": {},
   "source": [
    "### Boolean Variables\n",
    "\n",
    "Boolean Values are 2 constant objects True and False\n",
    "They are used to represent values(other values can also be considered false or true)\n",
    "\n",
    "In numeric contexts(for eg , when used as argument to an arithemic operator), they behave like integers 0 and 1 resp.\n",
    "\n",
    "The built in bool() can be used to cast any value to a Boolean, if the value can be interpreted as a truth value . They are written as False and True"
   ]
  },
  {
   "cell_type": "code",
   "execution_count": 12,
   "id": "e15c7c4c-09db-466a-94b6-7080cdae0804",
   "metadata": {},
   "outputs": [
    {
     "data": {
      "text/plain": [
       "False"
      ]
     },
     "execution_count": 12,
     "metadata": {},
     "output_type": "execute_result"
    }
   ],
   "source": [
    "#bool() function can be used to create boolean variable\n",
    "bool()"
   ]
  },
  {
   "cell_type": "code",
   "execution_count": 14,
   "id": "740b6ee6-e145-4b40-8517-f1fd703d3822",
   "metadata": {},
   "outputs": [
    {
     "name": "stdout",
     "output_type": "stream",
     "text": [
      "True False\n"
     ]
    }
   ],
   "source": [
    "print(True,False) # True False are in built boolean variables in python"
   ]
  },
  {
   "cell_type": "code",
   "execution_count": 16,
   "id": "28f9f030-566f-4d5a-80df-0a8c1e238b5d",
   "metadata": {},
   "outputs": [
    {
     "data": {
      "text/plain": [
       "bool"
      ]
     },
     "execution_count": 16,
     "metadata": {},
     "output_type": "execute_result"
    }
   ],
   "source": [
    "type(False)"
   ]
  },
  {
   "cell_type": "code",
   "execution_count": 18,
   "id": "24bb72f9-2d67-4a4a-8e24-e45590e4e386",
   "metadata": {},
   "outputs": [],
   "source": [
    "my_str='Prisha Aggarwal'"
   ]
  },
  {
   "cell_type": "code",
   "execution_count": 24,
   "id": "42a1a5d5-4467-40af-a6d3-edb8eff41de9",
   "metadata": {},
   "outputs": [],
   "source": [
    "# write my_str. and press tab and u will find all the in built functions of strings in python"
   ]
  },
  {
   "cell_type": "code",
   "execution_count": 32,
   "id": "a4059808-98e5-412b-a745-ad3ff5a4ef32",
   "metadata": {},
   "outputs": [
    {
     "name": "stdout",
     "output_type": "stream",
     "text": [
      "False\n",
      "False\n",
      "False\n",
      "True\n",
      "False\n",
      "False\n",
      "False\n",
      "False\n",
      "False\n"
     ]
    }
   ],
   "source": [
    "print(my_str.isalnum()) #check if all char are numbers\n",
    "print(my_str.isalpha()) #check if all char in the string are alphabetic\n",
    "print(my_str.isdigit()) #test if string contains digits\n",
    "print(my_str.istitle()) #test if string contains title words...title word basically means that first character is in upper case\n",
    "print(my_str.isupper()) #test if string contains upper case\n",
    "print(my_str.islower()) #test if string contains lower case\n",
    "print(my_str.isspace()) #test if string contains contains a space\n",
    "print(my_str.endswith('d')) #test if string ends with a d\n",
    "print(my_str.startswith('a'))  #test if string starts with a"
   ]
  },
  {
   "cell_type": "markdown",
   "id": "4de094c9-7d57-46ff-824b-59d077200b44",
   "metadata": {},
   "source": [
    "### Boolean and Logical Operators"
   ]
  },
  {
   "cell_type": "code",
   "execution_count": 35,
   "id": "6a75ab63-c22e-4526-b09e-046c4663cc76",
   "metadata": {},
   "outputs": [
    {
     "data": {
      "text/plain": [
       "False"
      ]
     },
     "execution_count": 35,
     "metadata": {},
     "output_type": "execute_result"
    }
   ],
   "source": [
    "True and False"
   ]
  },
  {
   "cell_type": "code",
   "execution_count": 37,
   "id": "609a17c6-5d6c-4f41-964c-0950bd3b5987",
   "metadata": {},
   "outputs": [
    {
     "data": {
      "text/plain": [
       "True"
      ]
     },
     "execution_count": 37,
     "metadata": {},
     "output_type": "execute_result"
    }
   ],
   "source": [
    "True and True"
   ]
  },
  {
   "cell_type": "code",
   "execution_count": 39,
   "id": "60940cf2-3ff3-40e7-a9e2-22503a96a9be",
   "metadata": {},
   "outputs": [
    {
     "data": {
      "text/plain": [
       "True"
      ]
     },
     "execution_count": 39,
     "metadata": {},
     "output_type": "execute_result"
    }
   ],
   "source": [
    "True or False"
   ]
  },
  {
   "cell_type": "code",
   "execution_count": 41,
   "id": "80420265-f165-4b04-ab94-02a45c617d5b",
   "metadata": {},
   "outputs": [
    {
     "data": {
      "text/plain": [
       "True"
      ]
     },
     "execution_count": 41,
     "metadata": {},
     "output_type": "execute_result"
    }
   ],
   "source": [
    "True or True"
   ]
  },
  {
   "cell_type": "code",
   "execution_count": 43,
   "id": "3fd994af-27d5-448a-9457-4c8a05a8a098",
   "metadata": {},
   "outputs": [],
   "source": [
    "str_example='Hello World'\n",
    "my_str='Prisha'"
   ]
  },
  {
   "cell_type": "code",
   "execution_count": 45,
   "id": "c7f9a0bd-ad8b-42de-9da3-916255ae57cc",
   "metadata": {},
   "outputs": [
    {
     "data": {
      "text/plain": [
       "True"
      ]
     },
     "execution_count": 45,
     "metadata": {},
     "output_type": "execute_result"
    }
   ],
   "source": [
    "my_str.isalpha() or str_example.isnum() "
   ]
  },
  {
   "cell_type": "markdown",
   "id": "b7f55373-148e-488c-a288-fc79ef740ae2",
   "metadata": {},
   "source": [
    "### Lists\n",
    "\n",
    "A list is a data structure in Python that is a mutable or changeable ordered sequence of elements. Each element or value that is inside of a list is called an item. Just as strings are defined as characters between quotes,List are defined by having values between square brackets[]."
   ]
  },
  {
   "cell_type": "code",
   "execution_count": 56,
   "id": "4a5ee4cb-12b5-4ce7-8acd-8ba5248c6576",
   "metadata": {},
   "outputs": [
    {
     "data": {
      "text/plain": [
       "list"
      ]
     },
     "execution_count": 56,
     "metadata": {},
     "output_type": "execute_result"
    }
   ],
   "source": [
    "type([])"
   ]
  },
  {
   "cell_type": "code",
   "execution_count": 66,
   "id": "901aaf08-cad8-42a6-a934-0e77b54ad5e4",
   "metadata": {},
   "outputs": [],
   "source": [
    "lst_example=[] #empty list"
   ]
  },
  {
   "cell_type": "code",
   "execution_count": 68,
   "id": "17f4f807-e5e5-4aca-a9c8-7eeaeea80136",
   "metadata": {},
   "outputs": [
    {
     "data": {
      "text/plain": [
       "list"
      ]
     },
     "execution_count": 68,
     "metadata": {},
     "output_type": "execute_result"
    }
   ],
   "source": [
    "type(lst_example)"
   ]
  },
  {
   "cell_type": "code",
   "execution_count": 70,
   "id": "2e060e0a-b45d-4ab1-ba99-b8a2bb52e756",
   "metadata": {},
   "outputs": [],
   "source": [
    "lst=list() #another way of creating an empty list using in built function called list"
   ]
  },
  {
   "cell_type": "code",
   "execution_count": 72,
   "id": "4df16b66-fa72-46aa-97f1-e1998e01d5c6",
   "metadata": {},
   "outputs": [
    {
     "data": {
      "text/plain": [
       "list"
      ]
     },
     "execution_count": 72,
     "metadata": {},
     "output_type": "execute_result"
    }
   ],
   "source": [
    "type(lst)"
   ]
  },
  {
   "cell_type": "code",
   "execution_count": 74,
   "id": "a1e527e5-0e7c-44fe-9fec-81885aa23b72",
   "metadata": {},
   "outputs": [],
   "source": [
    "lst=['mathematics','chem',2,3,100] #list can have diff data types"
   ]
  },
  {
   "cell_type": "code",
   "execution_count": 76,
   "id": "c2912a9b-00aa-4c3c-a264-e53ec39facb9",
   "metadata": {},
   "outputs": [
    {
     "data": {
      "text/plain": [
       "list"
      ]
     },
     "execution_count": 76,
     "metadata": {},
     "output_type": "execute_result"
    }
   ],
   "source": [
    "type(lst)"
   ]
  },
  {
   "cell_type": "code",
   "execution_count": 80,
   "id": "4f16efa9-1899-4993-9154-3b7e439725fd",
   "metadata": {},
   "outputs": [
    {
     "data": {
      "text/plain": [
       "5"
      ]
     },
     "execution_count": 80,
     "metadata": {},
     "output_type": "execute_result"
    }
   ],
   "source": [
    "len(lst) #number of items in a list"
   ]
  },
  {
   "cell_type": "markdown",
   "id": "ff47e775-ce33-4cb2-b873-32b1ca65deb7",
   "metadata": {},
   "source": [
    "#### Indexing in list"
   ]
  },
  {
   "cell_type": "code",
   "execution_count": 101,
   "id": "53452a56-c1da-480f-901c-8da856457d6c",
   "metadata": {},
   "outputs": [
    {
     "data": {
      "text/plain": [
       "2"
      ]
     },
     "execution_count": 101,
     "metadata": {},
     "output_type": "execute_result"
    }
   ],
   "source": [
    "lst[2] #indexing starts from zero"
   ]
  },
  {
   "cell_type": "code",
   "execution_count": 105,
   "id": "520a2b95-0217-484d-a7c8-847765fed38c",
   "metadata": {},
   "outputs": [
    {
     "data": {
      "text/plain": [
       "['mathematics', 'chem', 2, 3, 100, 'Prisha', 'Prisha']"
      ]
     },
     "execution_count": 105,
     "metadata": {},
     "output_type": "execute_result"
    }
   ],
   "source": [
    "#indexing can be done with range of values\n",
    "lst[:] #: picks all the elements of the list"
   ]
  },
  {
   "cell_type": "code",
   "execution_count": 109,
   "id": "52481fcc-3033-4106-9df5-2f17b704399e",
   "metadata": {},
   "outputs": [
    {
     "data": {
      "text/plain": [
       "['chem', 2, 3, 100, 'Prisha', 'Prisha']"
      ]
     },
     "execution_count": 109,
     "metadata": {},
     "output_type": "execute_result"
    }
   ],
   "source": [
    "lst[1:] #from 1st index to last element"
   ]
  },
  {
   "cell_type": "code",
   "execution_count": 111,
   "id": "98f1adf3-6cb8-4f95-85dd-652aba3f9115",
   "metadata": {},
   "outputs": [
    {
     "data": {
      "text/plain": [
       "['chem', 2]"
      ]
     },
     "execution_count": 111,
     "metadata": {},
     "output_type": "execute_result"
    }
   ],
   "source": [
    "lst[1:3] #from 1st index element to end-1 index wala element printed"
   ]
  },
  {
   "cell_type": "markdown",
   "id": "6badcc21-a8f8-4791-8ec7-43b1ab47bc55",
   "metadata": {},
   "source": [
    "### Inbuilt functions of list\n",
    "#### 1. Append"
   ]
  },
  {
   "cell_type": "code",
   "execution_count": 91,
   "id": "49f32ef9-a830-4129-99b7-e954de2f56cb",
   "metadata": {},
   "outputs": [],
   "source": [
    "#append is used to add elements in the list \n",
    "# element is added in the end of the list\n",
    "lst.append(\"Prisha\")"
   ]
  },
  {
   "cell_type": "code",
   "execution_count": 93,
   "id": "c04d1df7-d1b3-4852-8f50-b056c9780ab4",
   "metadata": {},
   "outputs": [
    {
     "data": {
      "text/plain": [
       "['mathematics', 'chem', 2, 3, 100, 'Prisha', 'Prisha']"
      ]
     },
     "execution_count": 93,
     "metadata": {},
     "output_type": "execute_result"
    }
   ],
   "source": [
    "lst "
   ]
  },
  {
   "cell_type": "code",
   "execution_count": 113,
   "id": "20b44caa-7461-42ce-9c04-101528e08a0e",
   "metadata": {},
   "outputs": [],
   "source": [
    "lst.append(['hello','world']) #appending two elements in the list creates a nested list"
   ]
  },
  {
   "cell_type": "code",
   "execution_count": 115,
   "id": "a79f0f3d-d282-443d-b04d-a50147fb8d6b",
   "metadata": {},
   "outputs": [
    {
     "data": {
      "text/plain": [
       "['mathematics', 'chem', 2, 3, 100, 'Prisha', 'Prisha', ['hello', 'world']]"
      ]
     },
     "execution_count": 115,
     "metadata": {},
     "output_type": "execute_result"
    }
   ],
   "source": [
    "lst"
   ]
  },
  {
   "cell_type": "markdown",
   "id": "f1c4e698-2eeb-4258-beb3-e2fd5eaae081",
   "metadata": {},
   "source": [
    "#### 2. Insert"
   ]
  },
  {
   "cell_type": "code",
   "execution_count": 117,
   "id": "5e9b3a58-edd5-4b72-9a5c-6f9934c523ec",
   "metadata": {},
   "outputs": [],
   "source": [
    "# insert at a particular index\n",
    "\n",
    "lst.insert(1,\"Prisha\") #1st index par prisha added"
   ]
  },
  {
   "cell_type": "code",
   "execution_count": 119,
   "id": "4a658de7-d755-474f-8450-1bd2bf9b2859",
   "metadata": {},
   "outputs": [
    {
     "data": {
      "text/plain": [
       "['mathematics',\n",
       " 'Prisha',\n",
       " 'chem',\n",
       " 2,\n",
       " 3,\n",
       " 100,\n",
       " 'Prisha',\n",
       " 'Prisha',\n",
       " ['hello', 'world']]"
      ]
     },
     "execution_count": 119,
     "metadata": {},
     "output_type": "execute_result"
    }
   ],
   "source": [
    "lst"
   ]
  },
  {
   "cell_type": "code",
   "execution_count": 121,
   "id": "1c353041-b982-4e9e-8cc5-c60d7640037d",
   "metadata": {},
   "outputs": [],
   "source": [
    "lst1=[1,2,3]"
   ]
  },
  {
   "cell_type": "code",
   "execution_count": 125,
   "id": "d71f9a9f-bb2c-4dbc-8b61-ccf8829b93d9",
   "metadata": {},
   "outputs": [],
   "source": [
    "lst1.insert(3,4)"
   ]
  },
  {
   "cell_type": "code",
   "execution_count": 127,
   "id": "2df035ee-18ae-476e-8ffc-d741c4ecbda1",
   "metadata": {},
   "outputs": [
    {
     "data": {
      "text/plain": [
       "[1, 2, 3, 4]"
      ]
     },
     "execution_count": 127,
     "metadata": {},
     "output_type": "execute_result"
    }
   ],
   "source": [
    "lst1"
   ]
  },
  {
   "cell_type": "markdown",
   "id": "8345729f-debe-4991-b918-f25209a2db1e",
   "metadata": {},
   "source": [
    "#### 3.Extend"
   ]
  },
  {
   "cell_type": "code",
   "execution_count": 131,
   "id": "f2189647-40e7-4ac0-95fe-8f79edc3a778",
   "metadata": {},
   "outputs": [],
   "source": [
    "lst2=[1,2,3,4,5,6]"
   ]
  },
  {
   "cell_type": "code",
   "execution_count": 137,
   "id": "05d8d1c1-0e0b-4df0-8990-6849a09ca94d",
   "metadata": {},
   "outputs": [],
   "source": [
    "lst2.extend([8,9]) #extend se if we give two elements then they are added as seperate elements and not as list"
   ]
  },
  {
   "cell_type": "code",
   "execution_count": 139,
   "id": "b799a5d9-c447-4d17-8a3e-795f77ac97f9",
   "metadata": {},
   "outputs": [
    {
     "data": {
      "text/plain": [
       "[1, 2, 3, 4, 5, 6, 8, 9, 8, 9]"
      ]
     },
     "execution_count": 139,
     "metadata": {},
     "output_type": "execute_result"
    }
   ],
   "source": [
    "lst2 "
   ]
  },
  {
   "cell_type": "markdown",
   "id": "be6aa15f-e21a-42d7-af82-6013f5ecfad1",
   "metadata": {},
   "source": [
    "#### 4. Sum and various operations in list"
   ]
  },
  {
   "cell_type": "code",
   "execution_count": 146,
   "id": "af5c1b41-483d-4b2e-adce-34607b1ab5dd",
   "metadata": {},
   "outputs": [],
   "source": [
    "lst3=[1,2,3,4,5]"
   ]
  },
  {
   "cell_type": "code",
   "execution_count": 152,
   "id": "6cbdab27-0bc4-402f-bd25-d4cc1fe65238",
   "metadata": {},
   "outputs": [
    {
     "data": {
      "text/plain": [
       "15"
      ]
     },
     "execution_count": 152,
     "metadata": {},
     "output_type": "execute_result"
    }
   ],
   "source": [
    "sum(lst3) #adds all the numbers inside the list and gives us the output"
   ]
  },
  {
   "cell_type": "code",
   "execution_count": 196,
   "id": "e138fe99-4918-4aa4-98fc-a0bcca3fa338",
   "metadata": {},
   "outputs": [
    {
     "data": {
      "text/plain": [
       "[2, 2]"
      ]
     },
     "execution_count": 196,
     "metadata": {},
     "output_type": "execute_result"
    }
   ],
   "source": [
    "lst3*2 #every value wont be multiplied by 2 but instead whole list will be appended again"
   ]
  },
  {
   "cell_type": "markdown",
   "id": "2b9c31dd-3d6e-4134-8a45-904313e92c51",
   "metadata": {},
   "source": [
    "#### 5. Pop()"
   ]
  },
  {
   "cell_type": "code",
   "execution_count": 168,
   "id": "0c30da7e-0f89-4089-a85c-1ec6d54c0354",
   "metadata": {},
   "outputs": [
    {
     "data": {
      "text/plain": [
       "3"
      ]
     },
     "execution_count": 168,
     "metadata": {},
     "output_type": "execute_result"
    }
   ],
   "source": [
    "lst3.pop() #by default we dont give any index value then it deletes the last value and return it"
   ]
  },
  {
   "cell_type": "code",
   "execution_count": 164,
   "id": "39701931-aa60-4de3-8fb4-3234e9de340f",
   "metadata": {},
   "outputs": [
    {
     "data": {
      "text/plain": [
       "1"
      ]
     },
     "execution_count": 164,
     "metadata": {},
     "output_type": "execute_result"
    }
   ],
   "source": [
    "lst3.pop(0)"
   ]
  },
  {
   "cell_type": "code",
   "execution_count": 166,
   "id": "6660032f-34b7-4af3-b2dc-ead4bcc32cd6",
   "metadata": {},
   "outputs": [
    {
     "data": {
      "text/plain": [
       "[2, 3]"
      ]
     },
     "execution_count": 166,
     "metadata": {},
     "output_type": "execute_result"
    }
   ],
   "source": [
    "lst3"
   ]
  },
  {
   "cell_type": "markdown",
   "id": "850347c0-3479-417a-ac7d-43f6cf71a04d",
   "metadata": {},
   "source": [
    "#### 6. Count"
   ]
  },
  {
   "cell_type": "code",
   "execution_count": 171,
   "id": "1b575aba-ea88-4fc4-98a1-9e0b4a380d6d",
   "metadata": {},
   "outputs": [
    {
     "data": {
      "text/plain": [
       "3"
      ]
     },
     "execution_count": 171,
     "metadata": {},
     "output_type": "execute_result"
    }
   ],
   "source": [
    "#Count calculates total occurence of given element of List\n",
    "lst4=[1,3,5,7,7,7]\n",
    "lst4.count(7)"
   ]
  },
  {
   "cell_type": "code",
   "execution_count": 175,
   "id": "379ef8d3-6ccf-4e78-a609-8053671f3573",
   "metadata": {},
   "outputs": [
    {
     "data": {
      "text/plain": [
       "6"
      ]
     },
     "execution_count": 175,
     "metadata": {},
     "output_type": "execute_result"
    }
   ],
   "source": [
    "len(lst4) #calculates the total length of list"
   ]
  },
  {
   "cell_type": "markdown",
   "id": "032fd5ea-4bcc-4fa6-8116-7784d00c4fdc",
   "metadata": {},
   "source": [
    "#### 7. Index"
   ]
  },
  {
   "cell_type": "code",
   "execution_count": 180,
   "id": "c8026502-4934-4735-b29b-6d89aaa73cc4",
   "metadata": {},
   "outputs": [],
   "source": [
    "#index retunrs the index of first occurence. Start and End Index are not necesaary parameter\n",
    "lst5=[3,4,5,67,6,7]"
   ]
  },
  {
   "cell_type": "code",
   "execution_count": 186,
   "id": "e1f836f6-89ff-41d0-b136-f659a19500d5",
   "metadata": {},
   "outputs": [
    {
     "data": {
      "text/plain": [
       "4"
      ]
     },
     "execution_count": 186,
     "metadata": {},
     "output_type": "execute_result"
    }
   ],
   "source": [
    "lst5.index(6,0,5) #6 is the value and 0 to 5 are index"
   ]
  },
  {
   "cell_type": "code",
   "execution_count": 188,
   "id": "04cdb5a4-1470-48a2-8ba7-9a21f398fb7d",
   "metadata": {},
   "outputs": [
    {
     "data": {
      "text/plain": [
       "3"
      ]
     },
     "execution_count": 188,
     "metadata": {},
     "output_type": "execute_result"
    }
   ],
   "source": [
    "lst5.index(67)"
   ]
  },
  {
   "cell_type": "markdown",
   "id": "870b8dc1-abb1-42ed-917f-781b0c85e167",
   "metadata": {},
   "source": [
    "#### 8. Min and Max"
   ]
  },
  {
   "cell_type": "code",
   "execution_count": 191,
   "id": "188775e7-bdd0-4761-b1ca-b37fe66d3d7f",
   "metadata": {},
   "outputs": [
    {
     "data": {
      "text/plain": [
       "3"
      ]
     },
     "execution_count": 191,
     "metadata": {},
     "output_type": "execute_result"
    }
   ],
   "source": [
    "min(lst5)"
   ]
  },
  {
   "cell_type": "code",
   "execution_count": 193,
   "id": "6b23614b-3737-40ed-aa0f-5f0e7ea30588",
   "metadata": {},
   "outputs": [
    {
     "data": {
      "text/plain": [
       "67"
      ]
     },
     "execution_count": 193,
     "metadata": {},
     "output_type": "execute_result"
    }
   ],
   "source": [
    "max(lst5)"
   ]
  }
 ],
 "metadata": {
  "kernelspec": {
   "display_name": "Python 3 (ipykernel)",
   "language": "python",
   "name": "python3"
  },
  "language_info": {
   "codemirror_mode": {
    "name": "ipython",
    "version": 3
   },
   "file_extension": ".py",
   "mimetype": "text/x-python",
   "name": "python",
   "nbconvert_exporter": "python",
   "pygments_lexer": "ipython3",
   "version": "3.12.4"
  }
 },
 "nbformat": 4,
 "nbformat_minor": 5
}
