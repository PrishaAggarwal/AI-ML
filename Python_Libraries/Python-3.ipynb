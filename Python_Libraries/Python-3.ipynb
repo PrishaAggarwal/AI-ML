{
 "cells": [
  {
   "cell_type": "markdown",
   "id": "cf39bd1c-d1a4-4102-87e8-5fd99c56dabb",
   "metadata": {},
   "source": [
    "## In this we will study about\n",
    "- Sets\n",
    "- Dictionary\n",
    "- Nested Dictionary\n",
    "- Tuples"
   ]
  },
  {
   "cell_type": "markdown",
   "id": "621d9280-73d7-45ec-9638-8a6a7ce925c9",
   "metadata": {},
   "source": [
    "## Sets\n",
    "A  set is unordered collection data type that is iterable, Mutable and has no duplicate elements. Python's set class represents the mathematical notion of a set. This is based on a data structure known as a hash table."
   ]
  },
  {
   "cell_type": "code",
   "execution_count": 5,
   "id": "e341ea27-0427-4a5f-afd0-035ec20eadf2",
   "metadata": {},
   "outputs": [
    {
     "name": "stdout",
     "output_type": "stream",
     "text": [
      "set()\n",
      "<class 'set'>\n"
     ]
    }
   ],
   "source": [
    "#Defining an empty set\n",
    "\n",
    "set_var=set() #set() is inbuilt funcion\n",
    "print(set_var)\n",
    "print(type(set_var))"
   ]
  },
  {
   "cell_type": "code",
   "execution_count": 7,
   "id": "02d39b80-c684-4b73-a371-503027f7dc21",
   "metadata": {},
   "outputs": [
    {
     "data": {
      "text/plain": [
       "set"
      ]
     },
     "execution_count": 7,
     "metadata": {},
     "output_type": "execute_result"
    }
   ],
   "source": [
    "type(set_var)"
   ]
  },
  {
   "cell_type": "code",
   "execution_count": 13,
   "id": "37477b4d-4432-4e76-8f3e-0d44a3145fd3",
   "metadata": {},
   "outputs": [
    {
     "name": "stdout",
     "output_type": "stream",
     "text": [
      "{'Avengers', 'Ironman', 'Hitman'}\n"
     ]
    },
    {
     "data": {
      "text/plain": [
       "set"
      ]
     },
     "execution_count": 13,
     "metadata": {},
     "output_type": "execute_result"
    }
   ],
   "source": [
    "set_var={\"Avengers\",\"Ironman\",\"Hitman\"} #{} braces to create sets\n",
    "print(set_var)\n",
    "type(set_var)"
   ]
  },
  {
   "cell_type": "code",
   "execution_count": 17,
   "id": "6e019885-758f-4d13-96af-a198e8dbb3c6",
   "metadata": {},
   "outputs": [
    {
     "name": "stdout",
     "output_type": "stream",
     "text": [
      "{1, 2, 3, 4}\n"
     ]
    }
   ],
   "source": [
    "set_var1={1,2,3,4,3}\n",
    "print(set_var1) #3 wont be printed twice"
   ]
  },
  {
   "cell_type": "markdown",
   "id": "f38247c4-f39b-4685-bd75-7e3c5d1ac0d1",
   "metadata": {},
   "source": [
    "#### 1. Indexing in Sets"
   ]
  },
  {
   "cell_type": "code",
   "execution_count": 21,
   "id": "35977896-492f-4f41-a181-fdf7e0ce7618",
   "metadata": {},
   "outputs": [],
   "source": [
    "#set_var[0] wont work since sets dont support indexing\n",
    "#set_var['Avengers'] also wont work\n",
    "#diff way of getting elements from set"
   ]
  },
  {
   "cell_type": "markdown",
   "id": "4a51f120-7bdf-4339-82f9-7d66190ad751",
   "metadata": {},
   "source": [
    "#### 2. Add"
   ]
  },
  {
   "cell_type": "code",
   "execution_count": 24,
   "id": "67c895c3-67f9-4028-b4eb-00e08a6aaf58",
   "metadata": {},
   "outputs": [],
   "source": [
    "set_var.add(\"Hulk\")"
   ]
  },
  {
   "cell_type": "code",
   "execution_count": 26,
   "id": "9d6c3337-861e-4750-93b1-2ef69b75bd6d",
   "metadata": {},
   "outputs": [
    {
     "data": {
      "text/plain": [
       "{'Avengers', 'Hitman', 'Hulk', 'Ironman'}"
      ]
     },
     "execution_count": 26,
     "metadata": {},
     "output_type": "execute_result"
    }
   ],
   "source": [
    "set_var"
   ]
  },
  {
   "cell_type": "code",
   "execution_count": 28,
   "id": "c00259e1-7acf-49de-b7c0-d48f7a01a4a0",
   "metadata": {},
   "outputs": [],
   "source": [
    "#everything like in maths...we can find diff union intersection of sets"
   ]
  },
  {
   "cell_type": "markdown",
   "id": "c6d11b67-a08b-4c9d-b382-e17b6b32ab9f",
   "metadata": {},
   "source": [
    "#### 3. Difference"
   ]
  },
  {
   "cell_type": "code",
   "execution_count": 51,
   "id": "51301820-fe99-4bea-9aaa-a0f792004e73",
   "metadata": {},
   "outputs": [],
   "source": [
    "set1={\"Avengers\",\"Ironman\",\"Hitman\"}\n",
    "set2={\"Avengers\",\"Ironman\",\"Hitman\",\"Iron2\"}"
   ]
  },
  {
   "cell_type": "code",
   "execution_count": 37,
   "id": "baa9172f-bdf0-48d5-9260-1d5e47dca955",
   "metadata": {},
   "outputs": [
    {
     "data": {
      "text/plain": [
       "{'Iron2'}"
      ]
     },
     "execution_count": 37,
     "metadata": {},
     "output_type": "execute_result"
    }
   ],
   "source": [
    "set2.difference(set1) #common elements removed basically set2-set1 but set2 remains same"
   ]
  },
  {
   "cell_type": "markdown",
   "id": "57f96d14-8c3c-410a-ba3a-3788b95a17e0",
   "metadata": {},
   "source": [
    "#### 4. Difference_Update"
   ]
  },
  {
   "cell_type": "code",
   "execution_count": 44,
   "id": "b24a41d9-1124-49e9-ae8e-67a1770891d3",
   "metadata": {},
   "outputs": [],
   "source": [
    "set2.difference_update(set1) #now set2 will be updated with difference of set2-set1"
   ]
  },
  {
   "cell_type": "code",
   "execution_count": 46,
   "id": "2fb44267-403f-429b-9d36-ed459abe7acf",
   "metadata": {},
   "outputs": [
    {
     "name": "stdout",
     "output_type": "stream",
     "text": [
      "{'Iron2'}\n"
     ]
    }
   ],
   "source": [
    "print(set2)"
   ]
  },
  {
   "cell_type": "markdown",
   "id": "b0ae0b21-2290-4e39-bb57-77c15328ebaf",
   "metadata": {},
   "source": [
    "#### 5. Intersection"
   ]
  },
  {
   "cell_type": "code",
   "execution_count": 53,
   "id": "c54dfa73-d9da-4af7-a51c-a35362ff0978",
   "metadata": {},
   "outputs": [
    {
     "data": {
      "text/plain": [
       "{'Avengers', 'Hitman', 'Ironman'}"
      ]
     },
     "execution_count": 53,
     "metadata": {},
     "output_type": "execute_result"
    }
   ],
   "source": [
    "set2.intersection(set1) #common elements in both will be coming here"
   ]
  },
  {
   "cell_type": "code",
   "execution_count": 55,
   "id": "bb9a8e48-5ae0-465d-8579-bcacd87804b6",
   "metadata": {},
   "outputs": [],
   "source": [
    "#if we want that intersection answer to be stored in set 2 then use update\n",
    "set2.intersection_update(set1)"
   ]
  },
  {
   "cell_type": "code",
   "execution_count": 57,
   "id": "eadcd84d-221a-4531-b4f8-64deeedeacc3",
   "metadata": {},
   "outputs": [
    {
     "name": "stdout",
     "output_type": "stream",
     "text": [
      "{'Avengers', 'Ironman', 'Hitman'}\n"
     ]
    }
   ],
   "source": [
    "print(set2)"
   ]
  },
  {
   "cell_type": "markdown",
   "id": "3db95e51-365c-4447-be03-ba00db28ec4b",
   "metadata": {},
   "source": [
    "### Dictionaries\n",
    "A dictionary is a collection which is unordered, changeable and indexed. Python dictionaries are written with curly brackets and they have keys and values. Keys must be unique but values can be repeated.A dictionary is termed an unordered collection of objects because dictionaries do not maintain any inherent order of the items based on when they were added."
   ]
  },
  {
   "cell_type": "code",
   "execution_count": 65,
   "id": "8a27d5c4-f86f-407e-adc1-6cb08e1e56b2",
   "metadata": {},
   "outputs": [],
   "source": [
    "dic={}"
   ]
  },
  {
   "cell_type": "code",
   "execution_count": 67,
   "id": "ecd5f6d1-a8ac-4b77-b635-2d8629237462",
   "metadata": {},
   "outputs": [
    {
     "data": {
      "text/plain": [
       "dict"
      ]
     },
     "execution_count": 67,
     "metadata": {},
     "output_type": "execute_result"
    }
   ],
   "source": [
    "type(dic)"
   ]
  },
  {
   "cell_type": "code",
   "execution_count": 69,
   "id": "e3d90359-d358-4e60-a200-64ac9ba2e56f",
   "metadata": {},
   "outputs": [],
   "source": [
    "dic1={1,2,3,4,5}"
   ]
  },
  {
   "cell_type": "code",
   "execution_count": 71,
   "id": "77fe436a-3153-45a7-a06a-526eb061e38f",
   "metadata": {},
   "outputs": [
    {
     "data": {
      "text/plain": [
       "set"
      ]
     },
     "execution_count": 71,
     "metadata": {},
     "output_type": "execute_result"
    }
   ],
   "source": [
    "type(dic1)"
   ]
  },
  {
   "cell_type": "code",
   "execution_count": 111,
   "id": "52b6f27f-5c89-4f15-b512-19c0a2c7bd18",
   "metadata": {},
   "outputs": [],
   "source": [
    "#Lets make a dictionary\n",
    "\n",
    "my_dic={\"Car1\":\"Audi\",\"Car2\":\"BMW\",\"Car3\":\"Benz\"} #key value pairs"
   ]
  },
  {
   "cell_type": "code",
   "execution_count": 81,
   "id": "5f320468-1304-47ec-9ede-bd1e621d228f",
   "metadata": {},
   "outputs": [
    {
     "data": {
      "text/plain": [
       "dict"
      ]
     },
     "execution_count": 81,
     "metadata": {},
     "output_type": "execute_result"
    }
   ],
   "source": [
    "type(my_dic)"
   ]
  },
  {
   "cell_type": "code",
   "execution_count": 83,
   "id": "357e05ef-b9dd-4740-b657-695d957a73c1",
   "metadata": {},
   "outputs": [],
   "source": [
    "my_dic1=dict() #empty dictionary created"
   ]
  },
  {
   "cell_type": "markdown",
   "id": "0264048e-456e-4109-a13c-4e7d77e4d335",
   "metadata": {},
   "source": [
    "#### 1. Accessing the elements"
   ]
  },
  {
   "cell_type": "code",
   "execution_count": 88,
   "id": "5d99c0a3-f186-4fe3-88b4-8a92042b07e4",
   "metadata": {},
   "outputs": [
    {
     "data": {
      "text/plain": [
       "'Audi'"
      ]
     },
     "execution_count": 88,
     "metadata": {},
     "output_type": "execute_result"
    }
   ],
   "source": [
    "my_dic['Car1'] #here indexing wont be your numbers but your key names"
   ]
  },
  {
   "cell_type": "code",
   "execution_count": 92,
   "id": "69675679-39cf-42b0-9d99-79da6125be5e",
   "metadata": {},
   "outputs": [
    {
     "name": "stdout",
     "output_type": "stream",
     "text": [
      "Car1\n",
      "Car2\n",
      "Car3\n"
     ]
    }
   ],
   "source": [
    "#we can even loop through the dictionary keys\n",
    "\n",
    "for x in my_dic:\n",
    "    print(x)"
   ]
  },
  {
   "cell_type": "code",
   "execution_count": 94,
   "id": "f1fd4355-060f-44a5-8d7a-95faabb36847",
   "metadata": {},
   "outputs": [
    {
     "name": "stdout",
     "output_type": "stream",
     "text": [
      "Audi\n",
      "BMW\n",
      "Benz\n"
     ]
    }
   ],
   "source": [
    "#we can even loop through the dictionary values\n",
    "\n",
    "for x in my_dic.values():\n",
    "    print(x)"
   ]
  },
  {
   "cell_type": "code",
   "execution_count": 96,
   "id": "6e51f769-0d37-4b37-8cd0-e4a52fd3be0e",
   "metadata": {},
   "outputs": [
    {
     "name": "stdout",
     "output_type": "stream",
     "text": [
      "('Car1', 'Audi')\n",
      "('Car2', 'BMW')\n",
      "('Car3', 'Benz')\n"
     ]
    }
   ],
   "source": [
    "#we can even loop through the dictionary values and keys both\n",
    "\n",
    "for x in my_dic.items():\n",
    "    print(x)"
   ]
  },
  {
   "cell_type": "markdown",
   "id": "081f0614-37de-4ddb-b6ed-584c9562d5a8",
   "metadata": {},
   "source": [
    "#### 2. Updating/ Adding new item to dictionary"
   ]
  },
  {
   "cell_type": "code",
   "execution_count": 99,
   "id": "3b0b9f57-68d9-46fc-a66f-2afb9c26805e",
   "metadata": {},
   "outputs": [],
   "source": [
    "my_dic['car4']='Audi 2.0'"
   ]
  },
  {
   "cell_type": "code",
   "execution_count": 101,
   "id": "7e437bf8-0853-418a-8ecf-45470257bd5e",
   "metadata": {},
   "outputs": [
    {
     "data": {
      "text/plain": [
       "{'Car1': 'Audi', 'Car2': 'BMW', 'Car3': 'Benz', 'car4': 'Audi 2.0'}"
      ]
     },
     "execution_count": 101,
     "metadata": {},
     "output_type": "execute_result"
    }
   ],
   "source": [
    "my_dic"
   ]
  },
  {
   "cell_type": "code",
   "execution_count": 117,
   "id": "b1108d0d-34a6-4d4f-9e9e-f3625bb7b51f",
   "metadata": {},
   "outputs": [],
   "source": [
    "my_dic['Car1']='Maruti' #updating \n",
    "#if we write values for already present keys then they get overwritten"
   ]
  },
  {
   "cell_type": "code",
   "execution_count": 119,
   "id": "40ed41b6-d26e-41f2-a6d5-4bbaa86b80d2",
   "metadata": {},
   "outputs": [
    {
     "data": {
      "text/plain": [
       "{'Car1': 'Maruti', 'Car2': 'BMW', 'Car3': 'Benz'}"
      ]
     },
     "execution_count": 119,
     "metadata": {},
     "output_type": "execute_result"
    }
   ],
   "source": [
    "my_dic"
   ]
  },
  {
   "cell_type": "markdown",
   "id": "f4359e5a-1805-49bd-81db-985f780944bd",
   "metadata": {},
   "source": [
    "### Nested Dictionaries"
   ]
  },
  {
   "cell_type": "code",
   "execution_count": 136,
   "id": "3bbd32e9-403c-4cb3-9386-29316cab8fd4",
   "metadata": {},
   "outputs": [],
   "source": [
    "car1_model={'Mercedes':1938}\n",
    "car2_model={'Benz':3834}\n",
    "car3_model={'hunda':3939}\n",
    "\n",
    "car_type={'car1':car1_model,'car2':car2_model,'car3':car3_model} #created a nested dictionary"
   ]
  },
  {
   "cell_type": "code",
   "execution_count": 138,
   "id": "a631a4e0-e0f4-4e1e-b6df-1e537b0f705e",
   "metadata": {},
   "outputs": [
    {
     "name": "stdout",
     "output_type": "stream",
     "text": [
      "{'car1': {'Mercedes': 1938}, 'car2': {'Benz': 3834}, 'car3': {'hunda': 3939}}\n"
     ]
    }
   ],
   "source": [
    "print(car_type) "
   ]
  },
  {
   "cell_type": "markdown",
   "id": "1cb4986e-f8ea-4c5f-8a80-4959ea863a9e",
   "metadata": {},
   "source": [
    "#### Accessing the items "
   ]
  },
  {
   "cell_type": "code",
   "execution_count": 141,
   "id": "43b226e0-a101-45aa-a812-cc1fff2d49b5",
   "metadata": {},
   "outputs": [
    {
     "name": "stdout",
     "output_type": "stream",
     "text": [
      "{'Mercedes': 1938}\n"
     ]
    }
   ],
   "source": [
    "print(car_type['car1'])"
   ]
  },
  {
   "cell_type": "code",
   "execution_count": 145,
   "id": "345bd29b-6e5a-4d8f-bcd7-c62cc5a44708",
   "metadata": {},
   "outputs": [
    {
     "name": "stdout",
     "output_type": "stream",
     "text": [
      "1938\n"
     ]
    }
   ],
   "source": [
    "print(car_type['car1']['Mercedes']) #we want to  capture 1938 to this is the method"
   ]
  },
  {
   "cell_type": "markdown",
   "id": "e36a4ccd-9d0c-4022-8942-0a7c4094b207",
   "metadata": {},
   "source": [
    "### Tuples\n",
    "It is not mutable i.e once defined the elements of tuple cant be changed"
   ]
  },
  {
   "cell_type": "code",
   "execution_count": 150,
   "id": "41876dcc-9220-4a95-85e8-0058643e77f1",
   "metadata": {},
   "outputs": [],
   "source": [
    "my_tuple=tuple() #defining empty typle"
   ]
  },
  {
   "cell_type": "code",
   "execution_count": 152,
   "id": "a0b76f80-b65d-4f25-82b2-77bdb1c5cf33",
   "metadata": {},
   "outputs": [
    {
     "data": {
      "text/plain": [
       "tuple"
      ]
     },
     "execution_count": 152,
     "metadata": {},
     "output_type": "execute_result"
    }
   ],
   "source": [
    "type(my_tuple)"
   ]
  },
  {
   "cell_type": "code",
   "execution_count": 154,
   "id": "b60159cc-f579-41e7-a42b-8c8346a93347",
   "metadata": {},
   "outputs": [],
   "source": [
    "my_tuple=()"
   ]
  },
  {
   "cell_type": "code",
   "execution_count": 156,
   "id": "74be6bda-2184-4f33-895d-f9eb5ca27b33",
   "metadata": {},
   "outputs": [
    {
     "data": {
      "text/plain": [
       "tuple"
      ]
     },
     "execution_count": 156,
     "metadata": {},
     "output_type": "execute_result"
    }
   ],
   "source": [
    "type(my_tuple)"
   ]
  },
  {
   "cell_type": "code",
   "execution_count": 158,
   "id": "bb1b1e86-bc2e-48fa-b5e8-669f4185127a",
   "metadata": {},
   "outputs": [],
   "source": [
    "my_tuple=(\"Prisha\",\"Ankur\",\"Niharika\")"
   ]
  },
  {
   "cell_type": "code",
   "execution_count": 160,
   "id": "89057e3d-dcb7-4e6d-ab0f-706d3c9c21e7",
   "metadata": {},
   "outputs": [
    {
     "name": "stdout",
     "output_type": "stream",
     "text": [
      "('Prisha', 'Ankur', 'Niharika')\n"
     ]
    }
   ],
   "source": [
    "print(my_tuple)"
   ]
  },
  {
   "cell_type": "code",
   "execution_count": 164,
   "id": "f29a6958-304d-49d4-9489-cd362b51217d",
   "metadata": {},
   "outputs": [
    {
     "name": "stdout",
     "output_type": "stream",
     "text": [
      "<class 'tuple'>\n"
     ]
    }
   ],
   "source": [
    "print(type(my_tuple))"
   ]
  },
  {
   "cell_type": "code",
   "execution_count": 166,
   "id": "b485cee3-2dfe-44d6-b2ad-debbe4881039",
   "metadata": {},
   "outputs": [
    {
     "data": {
      "text/plain": [
       "'Prisha'"
      ]
     },
     "execution_count": 166,
     "metadata": {},
     "output_type": "execute_result"
    }
   ],
   "source": [
    "my_tuple[0]"
   ]
  },
  {
   "cell_type": "code",
   "execution_count": 170,
   "id": "8534c109-a703-460b-ae3c-492756171297",
   "metadata": {},
   "outputs": [],
   "source": [
    "#my_tuple[0]=\"Aggarwal\" this statement will give an error since tuple items are not mutable\n",
    "#although we can completely change the whole tuple but a particular item cant be changed"
   ]
  },
  {
   "cell_type": "code",
   "execution_count": 179,
   "id": "61049b96-15a6-486b-a5dd-9c7e41cf4e2a",
   "metadata": {},
   "outputs": [],
   "source": [
    "#tuples used only where once defination of something is required and nothing has to be changed or perfromed on that."
   ]
  },
  {
   "cell_type": "markdown",
   "id": "d116eb62-8933-45b2-84f9-899050cfcca1",
   "metadata": {},
   "source": [
    "#### 1. Count"
   ]
  },
  {
   "cell_type": "code",
   "execution_count": 177,
   "id": "72a4ea9c-ef60-4e1c-be23-49eacb41ae4b",
   "metadata": {},
   "outputs": [
    {
     "data": {
      "text/plain": [
       "1"
      ]
     },
     "execution_count": 177,
     "metadata": {},
     "output_type": "execute_result"
    }
   ],
   "source": [
    "my_tuple.count(\"Prisha\") #counts number of times a particular item is present"
   ]
  },
  {
   "cell_type": "markdown",
   "id": "ea0305b6-2acd-46c4-a0e5-4be51cf8f4ee",
   "metadata": {},
   "source": [
    "#### 2. Index"
   ]
  },
  {
   "cell_type": "code",
   "execution_count": 183,
   "id": "0d4b3cfa-698f-473d-bd7b-9fb135c20b46",
   "metadata": {},
   "outputs": [
    {
     "data": {
      "text/plain": [
       "0"
      ]
     },
     "execution_count": 183,
     "metadata": {},
     "output_type": "execute_result"
    }
   ],
   "source": [
    "my_tuple.index('Prisha') #Tells index of particular item"
   ]
  }
 ],
 "metadata": {
  "kernelspec": {
   "display_name": "Python 3 (ipykernel)",
   "language": "python",
   "name": "python3"
  },
  "language_info": {
   "codemirror_mode": {
    "name": "ipython",
    "version": 3
   },
   "file_extension": ".py",
   "mimetype": "text/x-python",
   "name": "python",
   "nbconvert_exporter": "python",
   "pygments_lexer": "ipython3",
   "version": "3.12.4"
  }
 },
 "nbformat": 4,
 "nbformat_minor": 5
}
