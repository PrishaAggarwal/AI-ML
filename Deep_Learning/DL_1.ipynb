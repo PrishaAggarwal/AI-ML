{
 "cells": [
  {
   "cell_type": "markdown",
   "id": "ccb94bf6-c709-48b1-a021-1938f34420cd",
   "metadata": {},
   "source": [
    "## Introduction to Deep Learning\n",
    "\n",
    "I think that AI is the new electricity. Starting about 100 years ago, the electrification of our society transformed every major industry, everything ranging from transportation, manufacturing, to healthcare, to communications and many more. And I think that today, we see a surprisingly clear path for AI to bring about an equally big transformation. "
   ]
  },
  {
   "cell_type": "markdown",
   "id": "1a6a3a29-06a1-4519-8849-cf9b0326168b",
   "metadata": {},
   "source": [
    "## What is Neural Networks\n",
    "\n",
    "Suppose we have pricing houses prediction. In that we draw a straight line fit to the data. So this is the simplest neural network. <br>\n",
    "`Size(x) -> neuron -> price(y)`<br>\n",
    "What the neuron does is it inputs the size, computes this linear function, takes a max of zero, and then outputs the estimated price. This neuron implements this function that we drew (the straight line).<br>\n",
    "Also since the straight isnt exactly starting from zero so we extend the line as horizontal line towards 0 indicating 0 price since price cant be negative and we cant extend the line below x axis<br>\n",
    "![Funtion](function.png)<br>\n",
    "This function is called ReLU function that stands for Rectified Linear Unit. Basically if x>0 then returns x and if x<= then this function returns 0<br>\n",
    "A larger neural network is then formed by taking many of the single neurons and stacking them together. And so by stacking together a few of the single neurons or the simple predictors we have from the previous slide, we now have a slightly larger neural network. <br>\n",
    "![Neural Network](C:/Users/prish/AI-ML/Deep_Learning/neural.png)<br>\n",
    "Basically we have multiple inputs x1...x4 and then the y is the output. The 3 circles are hidden neurons which take all 4 inputs. Rather then saying this particular node denotes further decision making things like walking distance to nearest shop and about schools ....we will say we give all the 4 input features to compute and let it decide what to compute. So we say that first layer that is input layer and layer in the middle of the neural network are densely connected. Because every input feature is connected to every one of these circles in the middle. And the remarkable thing about neural networks is that, given enough data about x and y, given enough training examples with both x and y, neural networks are remarkably good at figuring out functions that accurately map from x to y."
   ]
  },
  {
   "cell_type": "markdown",
   "id": "87b66c0e-6f14-4902-8053-703dcd3f53dd",
   "metadata": {},
   "source": [
    "## Supervised Learning with Neural Networks\n",
    "\n",
    "A lot of the value creation through neural networks has been through cleverly selecting what should be x and what should be y for your particular problem, and then fitting this supervised learning component into often a bigger system such as an autonomous vehicle.The following are types of neural networks.<br>\n",
    "![Types of neural networks](types.png)<br>\n",
    "Depending on our problem we choose the neural network. Like for images we use CNN, for regression and classification problems we use Standard NN, for speech recognition and language translation we use RNN.<br>\n",
    "Structured Data means basically databases of data meaning that each of the features, such as size of the house, the number of bedrooms, or the age of a user, has a very well defined meaning.<br>\n",
    "In contrast, unstructured data refers to things like audio, raw audio, or images where you might want to recognize what's in the image or text. Here the features might be the pixel values in an image or the individual words in a piece of text."
   ]
  },
  {
   "cell_type": "markdown",
   "id": "76bca3b7-6d26-46b6-9940-e839f14e8e30",
   "metadata": {},
   "source": [
    "## Why is Deep Learning taking off ?\n",
    "\n"
   ]
  }
 ],
 "metadata": {
  "kernelspec": {
   "display_name": "Python 3 (ipykernel)",
   "language": "python",
   "name": "python3"
  },
  "language_info": {
   "codemirror_mode": {
    "name": "ipython",
    "version": 3
   },
   "file_extension": ".py",
   "mimetype": "text/x-python",
   "name": "python",
   "nbconvert_exporter": "python",
   "pygments_lexer": "ipython3",
   "version": "3.12.4"
  }
 },
 "nbformat": 4,
 "nbformat_minor": 5
}
