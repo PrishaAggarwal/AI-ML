{
 "cells": [
  {
   "cell_type": "markdown",
   "id": "6b9ef59f-ea9b-4422-ac98-6daed7f04bea",
   "metadata": {},
   "source": [
    "## Numpy Tutorials\n",
    "Numpy is a general-purpose array-processing package.It provides a high performence multidimentional array object and tools for working with these days. It is fundamental package for scientific computing with Python."
   ]
  },
  {
   "cell_type": "markdown",
   "id": "fd02ca36-3adb-459f-b4a7-1fafb3e241ba",
   "metadata": {},
   "source": [
    "### What is an Array\n",
    "An Array is a data structure that stores values of same data type. In Python, this is the main difference between arrays and lists. While Python lists can contain values corresponding to difference data types, arrays in python can only contain values corresponding to same data type."
   ]
  },
  {
   "cell_type": "code",
   "execution_count": 17,
   "id": "d24feca5-30f9-42a0-a755-c30ed05c70c7",
   "metadata": {},
   "outputs": [
    {
     "name": "stdout",
     "output_type": "stream",
     "text": [
      "Requirement already satisfied: numpy in c:\\users\\prish\\anaconda3\\lib\\site-packages (1.26.4)\n",
      "Note: you may need to restart the kernel to use updated packages.\n"
     ]
    }
   ],
   "source": [
    "pip install numpy "
   ]
  },
  {
   "cell_type": "code",
   "execution_count": 19,
   "id": "d0c6b5f3-aba5-4610-8063-90c8dad61d29",
   "metadata": {},
   "outputs": [],
   "source": [
    "#initially lets import numpy\n",
    "import numpy as np #np is alis name and now iska koi bhi inbuilt function use krna then use np"
   ]
  },
  {
   "cell_type": "code",
   "execution_count": 21,
   "id": "b4605fc8-189c-48db-8b33-d00b78b814ca",
   "metadata": {},
   "outputs": [],
   "source": [
    "my_list=[1,2,3,4,5]\n",
    "arr=np.array(my_list) #array in built function/data type to create an array"
   ]
  },
  {
   "cell_type": "code",
   "execution_count": 25,
   "id": "820672a8-8a7e-43bd-ad84-ed4a3e1e9b6c",
   "metadata": {},
   "outputs": [
    {
     "data": {
      "text/plain": [
       "numpy.ndarray"
      ]
     },
     "execution_count": 25,
     "metadata": {},
     "output_type": "execute_result"
    }
   ],
   "source": [
    "type(arr)"
   ]
  },
  {
   "cell_type": "code",
   "execution_count": 30,
   "id": "ea1e1777-8e0e-4c06-a2f0-14bbb660ec66",
   "metadata": {},
   "outputs": [
    {
     "name": "stdout",
     "output_type": "stream",
     "text": [
      "[1 2 3 4 5]\n"
     ]
    }
   ],
   "source": [
    "print(arr)"
   ]
  },
  {
   "cell_type": "code",
   "execution_count": 32,
   "id": "61a85d0a-e4d9-4266-b845-e56a468e0c75",
   "metadata": {},
   "outputs": [
    {
     "data": {
      "text/plain": [
       "array([1, 2, 3, 4, 5])"
      ]
     },
     "execution_count": 32,
     "metadata": {},
     "output_type": "execute_result"
    }
   ],
   "source": [
    "arr #this is 1d array"
   ]
  },
  {
   "cell_type": "code",
   "execution_count": 36,
   "id": "bc27ef3e-67e6-4a52-b07a-2822786d9709",
   "metadata": {},
   "outputs": [
    {
     "data": {
      "text/plain": [
       "(5,)"
      ]
     },
     "execution_count": 36,
     "metadata": {},
     "output_type": "execute_result"
    }
   ],
   "source": [
    "arr.shape #helps to check number of rows and cols in array"
   ]
  },
  {
   "cell_type": "markdown",
   "id": "5641fabe-eff2-44ae-829c-25a4d1e8be44",
   "metadata": {},
   "source": [
    "### Multidimenional Array"
   ]
  },
  {
   "cell_type": "code",
   "execution_count": 40,
   "id": "4946889c-4bd0-4d29-b987-a1e96c0aae7f",
   "metadata": {},
   "outputs": [],
   "source": [
    "list1=[1,2,3,4,5]\n",
    "list2=[3,4,6,7,8]\n",
    "list3=[3,4,5,6,7]\n",
    "\n",
    "arr=np.array([list1,list2,list3])"
   ]
  },
  {
   "cell_type": "code",
   "execution_count": 42,
   "id": "d25efa31-8f6a-4d37-aec8-4d9ab4cb2b9f",
   "metadata": {},
   "outputs": [
    {
     "data": {
      "text/plain": [
       "array([[1, 2, 3, 4, 5],\n",
       "       [3, 4, 6, 7, 8],\n",
       "       [3, 4, 5, 6, 7]])"
      ]
     },
     "execution_count": 42,
     "metadata": {},
     "output_type": "execute_result"
    }
   ],
   "source": [
    "arr"
   ]
  },
  {
   "cell_type": "code",
   "execution_count": 44,
   "id": "93048596-bdf5-4532-94f6-d636aab4a65a",
   "metadata": {},
   "outputs": [
    {
     "data": {
      "text/plain": [
       "(3, 5)"
      ]
     },
     "execution_count": 44,
     "metadata": {},
     "output_type": "execute_result"
    }
   ],
   "source": [
    "arr.shape"
   ]
  },
  {
   "cell_type": "code",
   "execution_count": 52,
   "id": "d6c1cdaa-0d8b-4b70-a85b-8df4cf645196",
   "metadata": {},
   "outputs": [
    {
     "data": {
      "text/plain": [
       "array([[1, 2, 3],\n",
       "       [4, 5, 3],\n",
       "       [4, 6, 7],\n",
       "       [8, 3, 4],\n",
       "       [5, 6, 7]])"
      ]
     },
     "execution_count": 52,
     "metadata": {},
     "output_type": "execute_result"
    }
   ],
   "source": [
    "#reshaping the array\n",
    "#arranging the 15 elements in a diff way\n",
    "#total elements must be equal\n",
    "arr.reshape(5,3)"
   ]
  },
  {
   "cell_type": "code",
   "execution_count": 54,
   "id": "4f0012c7-4816-4a13-9856-1c3edfa2e592",
   "metadata": {},
   "outputs": [
    {
     "data": {
      "text/plain": [
       "array([[1, 2, 3, 4, 5, 3, 4, 6, 7, 8, 3, 4, 5, 6, 7]])"
      ]
     },
     "execution_count": 54,
     "metadata": {},
     "output_type": "execute_result"
    }
   ],
   "source": [
    "arr.reshape(1,15)"
   ]
  },
  {
   "cell_type": "markdown",
   "id": "048acc0d-b1c0-4adf-95ce-eb1d4807d0fb",
   "metadata": {},
   "source": [
    "### Indexing"
   ]
  },
  {
   "cell_type": "code",
   "execution_count": 63,
   "id": "5408a440-1d77-447c-b9ad-e003afaf6ea6",
   "metadata": {},
   "outputs": [],
   "source": [
    "#Accesing the elements in the array\n",
    "\n",
    "arr1=np.array([2,3,4,5,5,6])"
   ]
  },
  {
   "cell_type": "code",
   "execution_count": 65,
   "id": "6bd31111-b1c9-4b34-8b04-da9e7ad8c534",
   "metadata": {},
   "outputs": [
    {
     "data": {
      "text/plain": [
       "5"
      ]
     },
     "execution_count": 65,
     "metadata": {},
     "output_type": "execute_result"
    }
   ],
   "source": [
    "#indexing in array starts from 0 onwards\n",
    "arr1[3]"
   ]
  },
  {
   "cell_type": "code",
   "execution_count": 67,
   "id": "a6e03451-ac60-44fe-8cb6-6ac83cfeb197",
   "metadata": {},
   "outputs": [
    {
     "data": {
      "text/plain": [
       "array([[1, 2, 3, 4, 5],\n",
       "       [3, 4, 6, 7, 8],\n",
       "       [3, 4, 5, 6, 7]])"
      ]
     },
     "execution_count": 67,
     "metadata": {},
     "output_type": "execute_result"
    }
   ],
   "source": [
    "#for d2\n",
    "arr"
   ]
  },
  {
   "cell_type": "code",
   "execution_count": 69,
   "id": "ac9e78a2-75fd-4a86-9ab2-e94c417e1103",
   "metadata": {},
   "outputs": [
    {
     "data": {
      "text/plain": [
       "2"
      ]
     },
     "execution_count": 69,
     "metadata": {},
     "output_type": "execute_result"
    }
   ],
   "source": [
    "arr[0][1]"
   ]
  },
  {
   "cell_type": "code",
   "execution_count": 73,
   "id": "39fb48e5-9198-467b-a541-0c59c67eff99",
   "metadata": {},
   "outputs": [
    {
     "data": {
      "text/plain": [
       "array([3, 4, 6, 7, 8])"
      ]
     },
     "execution_count": 73,
     "metadata": {},
     "output_type": "execute_result"
    }
   ],
   "source": [
    "# \":\" indicates that pick up all the elements in rows/col (here rows)\n",
    "arr[:][1]"
   ]
  },
  {
   "cell_type": "code",
   "execution_count": 75,
   "id": "750ba618-b26e-4d5a-9afc-dd602df6f101",
   "metadata": {},
   "outputs": [
    {
     "data": {
      "text/plain": [
       "array([[1, 2],\n",
       "       [3, 4]])"
      ]
     },
     "execution_count": 75,
     "metadata": {},
     "output_type": "execute_result"
    }
   ],
   "source": [
    "#nows lets suppose we have to pick up 1,2 from row 0 and 3,4 from row 1\n",
    "#therefore we need 0th row and 1st row i.e 0 untill 2nd row\n",
    "#similarly for col\n",
    "arr[0:2,0:2]"
   ]
  },
  {
   "cell_type": "code",
   "execution_count": 79,
   "id": "cfae5a51-1992-443a-a03d-94b4a7ad3fad",
   "metadata": {},
   "outputs": [
    {
     "data": {
      "text/plain": [
       "array([[7, 8],\n",
       "       [6, 7]])"
      ]
     },
     "execution_count": 79,
     "metadata": {},
     "output_type": "execute_result"
    }
   ],
   "source": [
    "#another example suppose u want to pick up 7,8 from row 1 and 6,7 from row 2\n",
    "arr[1:3,3:5]\n",
    "#or u can also write arr[1:,3:]"
   ]
  },
  {
   "cell_type": "markdown",
   "id": "2cb6f5e1-0c47-4729-9797-3158a71ce648",
   "metadata": {},
   "source": [
    "### Inbuilt Functions in NumPy"
   ]
  },
  {
   "cell_type": "markdown",
   "id": "16058fed-587f-4d62-a8e0-41a8de00c3c2",
   "metadata": {},
   "source": [
    "#### 1. Arrange"
   ]
  },
  {
   "cell_type": "code",
   "execution_count": 89,
   "id": "38ab9c18-886a-4945-9286-aff00ca6e0da",
   "metadata": {},
   "outputs": [],
   "source": [
    "arr2=np.arange(0,10) #start stop and step\n",
    "#creates 1d array"
   ]
  },
  {
   "cell_type": "code",
   "execution_count": 91,
   "id": "ea35ab71-9d0e-4c3b-b121-65a0b57101c5",
   "metadata": {},
   "outputs": [
    {
     "data": {
      "text/plain": [
       "array([0, 1, 2, 3, 4, 5, 6, 7, 8, 9])"
      ]
     },
     "execution_count": 91,
     "metadata": {},
     "output_type": "execute_result"
    }
   ],
   "source": [
    "arr2"
   ]
  },
  {
   "cell_type": "code",
   "execution_count": 97,
   "id": "8a050697-ef10-46ec-a92c-7eb85ed8fb25",
   "metadata": {},
   "outputs": [],
   "source": [
    "arr3=np.arange(0,10,2)"
   ]
  },
  {
   "cell_type": "code",
   "execution_count": 99,
   "id": "a59a327a-d7c2-4e01-b940-f8b940f3528e",
   "metadata": {},
   "outputs": [
    {
     "data": {
      "text/plain": [
       "array([0, 2, 4, 6, 8])"
      ]
     },
     "execution_count": 99,
     "metadata": {},
     "output_type": "execute_result"
    }
   ],
   "source": [
    "arr3"
   ]
  },
  {
   "cell_type": "markdown",
   "id": "ea939752-5540-4303-8f50-02da202f82bd",
   "metadata": {},
   "source": [
    "#### 2. linspace"
   ]
  },
  {
   "cell_type": "code",
   "execution_count": 107,
   "id": "e5b448d4-51a9-4ba4-b7c9-649ea2235da5",
   "metadata": {},
   "outputs": [
    {
     "data": {
      "text/plain": [
       "array([ 1.        ,  1.18367347,  1.36734694,  1.55102041,  1.73469388,\n",
       "        1.91836735,  2.10204082,  2.28571429,  2.46938776,  2.65306122,\n",
       "        2.83673469,  3.02040816,  3.20408163,  3.3877551 ,  3.57142857,\n",
       "        3.75510204,  3.93877551,  4.12244898,  4.30612245,  4.48979592,\n",
       "        4.67346939,  4.85714286,  5.04081633,  5.2244898 ,  5.40816327,\n",
       "        5.59183673,  5.7755102 ,  5.95918367,  6.14285714,  6.32653061,\n",
       "        6.51020408,  6.69387755,  6.87755102,  7.06122449,  7.24489796,\n",
       "        7.42857143,  7.6122449 ,  7.79591837,  7.97959184,  8.16326531,\n",
       "        8.34693878,  8.53061224,  8.71428571,  8.89795918,  9.08163265,\n",
       "        9.26530612,  9.44897959,  9.63265306,  9.81632653, 10.        ])"
      ]
     },
     "execution_count": 107,
     "metadata": {},
     "output_type": "execute_result"
    }
   ],
   "source": [
    "np.linspace(1,10,50) # basically 1 to 10 i need 50 points and these 50 points wont be equally divided points"
   ]
  },
  {
   "cell_type": "markdown",
   "id": "4a0c5462-098e-4dae-98ff-38f9dee747ad",
   "metadata": {},
   "source": [
    "#### 3. Copy() and broadcasting"
   ]
  },
  {
   "cell_type": "code",
   "execution_count": 116,
   "id": "765530ce-d938-448e-8d48-fa1e8327bacf",
   "metadata": {},
   "outputs": [],
   "source": [
    "arr5=[2,3,3,4,4,4,5,6]\n",
    "arr6=np.array(arr5)"
   ]
  },
  {
   "cell_type": "code",
   "execution_count": 123,
   "id": "d99cd645-cf0c-4b40-bf67-98fe47f9e1d1",
   "metadata": {},
   "outputs": [],
   "source": [
    "arr6[3:]=100 #this is called broadcasting"
   ]
  },
  {
   "cell_type": "code",
   "execution_count": 125,
   "id": "fcc6c001-720d-442c-bed5-b7b6fe51770b",
   "metadata": {},
   "outputs": [
    {
     "data": {
      "text/plain": [
       "array([  2,   3,   3, 100, 100, 100, 100, 100])"
      ]
     },
     "execution_count": 125,
     "metadata": {},
     "output_type": "execute_result"
    }
   ],
   "source": [
    "arr6"
   ]
  },
  {
   "cell_type": "code",
   "execution_count": 127,
   "id": "9c2b41b5-4465-4980-8a08-d115927e0fb7",
   "metadata": {},
   "outputs": [],
   "source": [
    "arr7=arr6"
   ]
  },
  {
   "cell_type": "code",
   "execution_count": 129,
   "id": "2e85d4e4-f4d2-461a-af94-cdff19ecb868",
   "metadata": {},
   "outputs": [
    {
     "data": {
      "text/plain": [
       "array([  2,   3,   3, 100, 100, 100, 100, 100])"
      ]
     },
     "execution_count": 129,
     "metadata": {},
     "output_type": "execute_result"
    }
   ],
   "source": [
    "arr7"
   ]
  },
  {
   "cell_type": "code",
   "execution_count": 131,
   "id": "71e6c85c-b9d1-4dd5-99fb-74a3a4901d19",
   "metadata": {},
   "outputs": [],
   "source": [
    "arr7[3:]=500"
   ]
  },
  {
   "cell_type": "code",
   "execution_count": 133,
   "id": "9927db54-47df-44f1-bc03-238a2e7c930b",
   "metadata": {},
   "outputs": [
    {
     "data": {
      "text/plain": [
       "array([  2,   3,   3, 500, 500, 500, 500, 500])"
      ]
     },
     "execution_count": 133,
     "metadata": {},
     "output_type": "execute_result"
    }
   ],
   "source": [
    "arr7"
   ]
  },
  {
   "cell_type": "code",
   "execution_count": 135,
   "id": "152c1dd0-8abe-4a1d-813b-2e8ace0fbccb",
   "metadata": {},
   "outputs": [
    {
     "data": {
      "text/plain": [
       "array([  2,   3,   3, 500, 500, 500, 500, 500])"
      ]
     },
     "execution_count": 135,
     "metadata": {},
     "output_type": "execute_result"
    }
   ],
   "source": [
    "arr6"
   ]
  },
  {
   "cell_type": "code",
   "execution_count": 141,
   "id": "f129010d-b5e8-48cc-a0fe-4c33c6a3e606",
   "metadata": {},
   "outputs": [],
   "source": [
    "#if we put arr1=arr and make changes to arr1 then changes will also be made to arr\n",
    "#this is called reference type i.e array is basically reference type\n",
    "#here they are sharing same memory cell"
   ]
  },
  {
   "cell_type": "code",
   "execution_count": 143,
   "id": "6d68f051-52e3-4eaf-986f-a425d5436c75",
   "metadata": {},
   "outputs": [],
   "source": [
    "#so in order to prevent this we use the copy function\n",
    "arr7=np.array([3,4,5,6,7,8,9])"
   ]
  },
  {
   "cell_type": "code",
   "execution_count": 155,
   "id": "91bdeedb-345a-4e21-9f7e-8e8345201dd3",
   "metadata": {},
   "outputs": [],
   "source": [
    "arr8=arr7.copy() #copy creates a diff memory cell"
   ]
  },
  {
   "cell_type": "code",
   "execution_count": 149,
   "id": "f9bfa117-89a4-498b-883d-65027327d8d7",
   "metadata": {},
   "outputs": [
    {
     "name": "stdout",
     "output_type": "stream",
     "text": [
      "[3 4 5 6 7 8 9]\n",
      "[  3   4   5 100 100 100 100]\n"
     ]
    }
   ],
   "source": [
    "print(arr7)\n",
    "arr8[3:]=100\n",
    "print(arr8)"
   ]
  },
  {
   "cell_type": "code",
   "execution_count": 153,
   "id": "bfab0139-6297-4358-ad75-3be5d553f954",
   "metadata": {},
   "outputs": [
    {
     "data": {
      "text/plain": [
       "array([3, 4, 5, 6, 7, 8, 9])"
      ]
     },
     "execution_count": 153,
     "metadata": {},
     "output_type": "execute_result"
    }
   ],
   "source": [
    "arr7"
   ]
  },
  {
   "cell_type": "markdown",
   "id": "8dd402d7-16ce-4786-92d9-eb681bd858c3",
   "metadata": {},
   "source": [
    "#### 4. Conditions useful in Exploratary Data Analysis"
   ]
  },
  {
   "cell_type": "code",
   "execution_count": 160,
   "id": "6f8d0109-f123-4f26-9204-7aa5ece57462",
   "metadata": {},
   "outputs": [
    {
     "data": {
      "text/plain": [
       "array([ True,  True, False, False, False, False, False, False, False,\n",
       "       False])"
      ]
     },
     "execution_count": 160,
     "metadata": {},
     "output_type": "execute_result"
    }
   ],
   "source": [
    "val=2\n",
    "\n",
    "arr<2 #it goes on to check which all elements are less than 2 in the array"
   ]
  },
  {
   "cell_type": "code",
   "execution_count": 164,
   "id": "4486d2f9-7dcd-4e13-b641-d6b177d523b8",
   "metadata": {},
   "outputs": [
    {
     "data": {
      "text/plain": [
       "array([  0,   2,   4, 200, 200, 200, 200, 200, 200, 200])"
      ]
     },
     "execution_count": 164,
     "metadata": {},
     "output_type": "execute_result"
    }
   ],
   "source": [
    " arr*2 #each element gets multiplied by 2 and similar for division and modulus operations"
   ]
  },
  {
   "cell_type": "code",
   "execution_count": 166,
   "id": "da837608-710c-4cb4-bfc5-5715849d1bb9",
   "metadata": {},
   "outputs": [
    {
     "data": {
      "text/plain": [
       "array([0, 1])"
      ]
     },
     "execution_count": 166,
     "metadata": {},
     "output_type": "execute_result"
    }
   ],
   "source": [
    "#if we need elements that are less than 2\n",
    "#then do this\n",
    "\n",
    "val=2\n",
    "arr[arr<2]"
   ]
  },
  {
   "cell_type": "code",
   "execution_count": 174,
   "id": "ed18aec8-f842-406d-a076-4fbcde34d946",
   "metadata": {},
   "outputs": [
    {
     "data": {
      "text/plain": [
       "array([46, 12, 20, 20, 24])"
      ]
     },
     "execution_count": 174,
     "metadata": {},
     "output_type": "execute_result"
    }
   ],
   "source": [
    "arr1=np.array([2,3,4,4,4])\n",
    "arr2=np.array([23,4,5,5,6])\n",
    "\n",
    "arr1*arr2"
   ]
  },
  {
   "cell_type": "markdown",
   "id": "0b359d85-fcc9-424c-b149-54b87b00f232",
   "metadata": {},
   "source": [
    "#### 5. Arange and reshape"
   ]
  },
  {
   "cell_type": "code",
   "execution_count": 170,
   "id": "6f33cfef-315e-4f7b-aeae-2340a9db4abe",
   "metadata": {},
   "outputs": [
    {
     "data": {
      "text/plain": [
       "array([[0, 1, 2, 3, 4],\n",
       "       [5, 6, 7, 8, 9]])"
      ]
     },
     "execution_count": 170,
     "metadata": {},
     "output_type": "execute_result"
    }
   ],
   "source": [
    "np.arange(0,10).reshape(2,5)"
   ]
  },
  {
   "cell_type": "markdown",
   "id": "f109938e-4c2d-42f9-b9ba-95dd0936117d",
   "metadata": {},
   "source": [
    "#### 6. Ones\n",
    "Basically creates an array with all 1's"
   ]
  },
  {
   "cell_type": "code",
   "execution_count": 184,
   "id": "f4c25e17-fb35-4335-aebc-9d7d53e7457b",
   "metadata": {},
   "outputs": [
    {
     "data": {
      "text/plain": [
       "array([1., 1., 1., 1.])"
      ]
     },
     "execution_count": 184,
     "metadata": {},
     "output_type": "execute_result"
    }
   ],
   "source": [
    "np.ones(4,dtype=float) #by default dtype is float"
   ]
  },
  {
   "cell_type": "code",
   "execution_count": 186,
   "id": "734cf727-63fa-412b-b787-b9970a748832",
   "metadata": {},
   "outputs": [
    {
     "data": {
      "text/plain": [
       "array([[1, 1, 1, 1, 1],\n",
       "       [1, 1, 1, 1, 1]])"
      ]
     },
     "execution_count": 186,
     "metadata": {},
     "output_type": "execute_result"
    }
   ],
   "source": [
    "np.ones((2,5),dtype=int) #2d arrays can also be made"
   ]
  },
  {
   "cell_type": "markdown",
   "id": "5b6bec99-0678-4d3c-8903-b72905f51555",
   "metadata": {},
   "source": [
    "#### 7. Random distribution"
   ]
  },
  {
   "cell_type": "code",
   "execution_count": 191,
   "id": "5f3642db-2bec-4567-9975-8a65e0a5131b",
   "metadata": {},
   "outputs": [
    {
     "data": {
      "text/plain": [
       "array([[0.05912296, 0.24438041, 0.94123058],\n",
       "       [0.54258454, 0.69507589, 0.02478197],\n",
       "       [0.24473937, 0.93416064, 0.65692341]])"
      ]
     },
     "execution_count": 191,
     "metadata": {},
     "output_type": "execute_result"
    }
   ],
   "source": [
    "np.random.rand(3,3) #select random values of given shape between 0 to 1"
   ]
  },
  {
   "cell_type": "code",
   "execution_count": 195,
   "id": "4cd9e62b-2dcc-4cf5-9c2b-4d9ae7cc7a25",
   "metadata": {},
   "outputs": [
    {
     "data": {
      "text/plain": [
       "array([[-1.95859328, -0.13716052,  0.26414506, -1.96671339],\n",
       "       [ 0.01797352,  0.18741217, -1.16344877,  0.33385674],\n",
       "       [ 0.52389256, -1.48668706,  0.11241792, -0.25361522],\n",
       "       [ 2.15713437,  1.83611011, -0.68057115, -0.6118375 ]])"
      ]
     },
     "execution_count": 195,
     "metadata": {},
     "output_type": "execute_result"
    }
   ],
   "source": [
    "np.random.randn(4,4) #selects sample from standard normal distribution of given shape..inn numbers ka mean=1 and sd=0"
   ]
  },
  {
   "cell_type": "code",
   "execution_count": 203,
   "id": "da28ddb8-fac4-4c87-990f-5ebe02239b00",
   "metadata": {},
   "outputs": [
    {
     "data": {
      "text/plain": [
       "array([63, 35, 48, 90, 25, 87, 28, 46])"
      ]
     },
     "execution_count": 203,
     "metadata": {},
     "output_type": "execute_result"
    }
   ],
   "source": [
    "np.random.randint(0,100,8) #0 is lower limit 100 is upper limit and 8 is the size\n",
    "#randint provides higher integer values"
   ]
  },
  {
   "cell_type": "code",
   "execution_count": 209,
   "id": "1d8af8fa-fbd0-45fd-86b3-34e0c2aa904e",
   "metadata": {},
   "outputs": [
    {
     "data": {
      "text/plain": [
       "array([[0.25560902, 0.15799562, 0.13827441, 0.03132771, 0.63968064]])"
      ]
     },
     "execution_count": 209,
     "metadata": {},
     "output_type": "execute_result"
    }
   ],
   "source": [
    "np.random.random_sample((1,5)) #provides random sample between [0 to 1)"
   ]
  }
 ],
 "metadata": {
  "kernelspec": {
   "display_name": "Python 3 (ipykernel)",
   "language": "python",
   "name": "python3"
  },
  "language_info": {
   "codemirror_mode": {
    "name": "ipython",
    "version": 3
   },
   "file_extension": ".py",
   "mimetype": "text/x-python",
   "name": "python",
   "nbconvert_exporter": "python",
   "pygments_lexer": "ipython3",
   "version": "3.12.4"
  }
 },
 "nbformat": 4,
 "nbformat_minor": 5
}
